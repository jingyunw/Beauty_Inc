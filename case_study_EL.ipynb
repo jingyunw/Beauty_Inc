{
 "cells": [
  {
   "cell_type": "markdown",
   "metadata": {},
   "source": [
    "# Beauty Inc. Lip Category"
   ]
  },
  {
   "cell_type": "code",
   "execution_count": 1,
   "metadata": {},
   "outputs": [],
   "source": [
    "# General\n",
    "import pandas as pd\n",
    "pd.options.display.max_rows = 999\n",
    "\n",
    "import numpy as np\n",
    "\n",
    "import matplotlib.pyplot as plt\n",
    "%matplotlib inline\n",
    "\n",
    "import warnings\n",
    "warnings.filterwarnings(action='ignore')\n",
    "\n",
    "# Plotly version > 4.4.1\n",
    "import plotly.express as px\n",
    "import plotly.graph_objects as go\n",
    "from plotly.subplots import make_subplots\n",
    "import plotly.io as pio"
   ]
  },
  {
   "cell_type": "markdown",
   "metadata": {},
   "source": [
    "## I. Data Understanding"
   ]
  },
  {
   "cell_type": "code",
   "execution_count": 2,
   "metadata": {},
   "outputs": [
    {
     "data": {
      "text/plain": [
       "(29183, 14)"
      ]
     },
     "metadata": {},
     "output_type": "display_data"
    },
    {
     "name": "stdout",
     "output_type": "stream",
     "text": [
      "<class 'pandas.core.frame.DataFrame'>\n",
      "RangeIndex: 29183 entries, 0 to 29182\n",
      "Data columns (total 14 columns):\n",
      " #   Column                                        Non-Null Count  Dtype \n",
      "---  ------                                        --------------  ----- \n",
      " 0   Unnamed: 0                                    29182 non-null  object\n",
      " 1   Unnamed: 1                                    29182 non-null  object\n",
      " 2   Unnamed: 2                                    29182 non-null  object\n",
      " 3   Unnamed: 3                                    29182 non-null  object\n",
      " 4   Unnamed: 4                                    29182 non-null  object\n",
      " 5   Unnamed: 5                                    29182 non-null  object\n",
      " 6   Calendar Year  /  Calendar Quarter (short)    27912 non-null  object\n",
      " 7   Calendar Year  /  Calendar Quarter (short).1  27793 non-null  object\n",
      " 8   Calendar Year  /  Calendar Quarter (short).2  27792 non-null  object\n",
      " 9   Calendar Year  /  Calendar Quarter (short).3  27849 non-null  object\n",
      " 10  Calendar Year  /  Calendar Quarter (short).4  27600 non-null  object\n",
      " 11  Calendar Year  /  Calendar Quarter (short).5  27300 non-null  object\n",
      " 12  Calendar Year  /  Calendar Quarter (short).6  27250 non-null  object\n",
      " 13  Calendar Year  /  Calendar Quarter (short).7  27196 non-null  object\n",
      "dtypes: object(14)\n",
      "memory usage: 3.1+ MB\n"
     ]
    },
    {
     "data": {
      "text/plain": [
       "None"
      ]
     },
     "metadata": {},
     "output_type": "display_data"
    },
    {
     "data": {
      "text/html": [
       "<div>\n",
       "<style scoped>\n",
       "    .dataframe tbody tr th:only-of-type {\n",
       "        vertical-align: middle;\n",
       "    }\n",
       "\n",
       "    .dataframe tbody tr th {\n",
       "        vertical-align: top;\n",
       "    }\n",
       "\n",
       "    .dataframe thead th {\n",
       "        text-align: right;\n",
       "    }\n",
       "</style>\n",
       "<table border=\"1\" class=\"dataframe\">\n",
       "  <thead>\n",
       "    <tr style=\"text-align: right;\">\n",
       "      <th></th>\n",
       "      <th>Unnamed: 0</th>\n",
       "      <th>Unnamed: 1</th>\n",
       "      <th>Unnamed: 2</th>\n",
       "      <th>Unnamed: 3</th>\n",
       "      <th>Unnamed: 4</th>\n",
       "      <th>Unnamed: 5</th>\n",
       "      <th>Calendar Year  /  Calendar Quarter (short)</th>\n",
       "      <th>Calendar Year  /  Calendar Quarter (short).1</th>\n",
       "      <th>Calendar Year  /  Calendar Quarter (short).2</th>\n",
       "      <th>Calendar Year  /  Calendar Quarter (short).3</th>\n",
       "      <th>Calendar Year  /  Calendar Quarter (short).4</th>\n",
       "      <th>Calendar Year  /  Calendar Quarter (short).5</th>\n",
       "      <th>Calendar Year  /  Calendar Quarter (short).6</th>\n",
       "      <th>Calendar Year  /  Calendar Quarter (short).7</th>\n",
       "    </tr>\n",
       "  </thead>\n",
       "  <tbody>\n",
       "    <tr>\n",
       "      <th>0</th>\n",
       "      <td>NaN</td>\n",
       "      <td>NaN</td>\n",
       "      <td>NaN</td>\n",
       "      <td>NaN</td>\n",
       "      <td>NaN</td>\n",
       "      <td>NaN</td>\n",
       "      <td>2019</td>\n",
       "      <td>2019</td>\n",
       "      <td>2019</td>\n",
       "      <td>2019</td>\n",
       "      <td>2020</td>\n",
       "      <td>2020</td>\n",
       "      <td>2020</td>\n",
       "      <td>2020</td>\n",
       "    </tr>\n",
       "    <tr>\n",
       "      <th>1</th>\n",
       "      <td>Region</td>\n",
       "      <td>Affiliate</td>\n",
       "      <td>Major Category</td>\n",
       "      <td>Category</td>\n",
       "      <td>Corporate</td>\n",
       "      <td>Brand</td>\n",
       "      <td>Q1</td>\n",
       "      <td>Q2</td>\n",
       "      <td>Q3</td>\n",
       "      <td>Q4</td>\n",
       "      <td>Q1</td>\n",
       "      <td>Q2</td>\n",
       "      <td>Q3</td>\n",
       "      <td>Q4</td>\n",
       "    </tr>\n",
       "    <tr>\n",
       "      <th>2</th>\n",
       "      <td>APAC Region</td>\n",
       "      <td>China</td>\n",
       "      <td>Fragrance</td>\n",
       "      <td>Cross Application Sets</td>\n",
       "      <td>AMORE PACIFIC</td>\n",
       "      <td>ANNICK GOUTAL</td>\n",
       "      <td>0</td>\n",
       "      <td>0</td>\n",
       "      <td>0</td>\n",
       "      <td>0</td>\n",
       "      <td>0</td>\n",
       "      <td>0</td>\n",
       "      <td>0</td>\n",
       "      <td>0</td>\n",
       "    </tr>\n",
       "    <tr>\n",
       "      <th>3</th>\n",
       "      <td>APAC Region</td>\n",
       "      <td>China</td>\n",
       "      <td>Fragrance</td>\n",
       "      <td>Cross Application Sets</td>\n",
       "      <td>BEAUTYIMPORT</td>\n",
       "      <td>COSME DECORTE</td>\n",
       "      <td>0</td>\n",
       "      <td>0</td>\n",
       "      <td>0</td>\n",
       "      <td>0</td>\n",
       "      <td>0</td>\n",
       "      <td>0</td>\n",
       "      <td>0</td>\n",
       "      <td>0</td>\n",
       "    </tr>\n",
       "    <tr>\n",
       "      <th>4</th>\n",
       "      <td>APAC Region</td>\n",
       "      <td>China</td>\n",
       "      <td>Fragrance</td>\n",
       "      <td>Cross Application Sets</td>\n",
       "      <td>CHANEL INC</td>\n",
       "      <td>CHANEL</td>\n",
       "      <td>535821</td>\n",
       "      <td>709842</td>\n",
       "      <td>1282286</td>\n",
       "      <td>417716</td>\n",
       "      <td>703534</td>\n",
       "      <td>793720</td>\n",
       "      <td>1501985</td>\n",
       "      <td>372384</td>\n",
       "    </tr>\n",
       "  </tbody>\n",
       "</table>\n",
       "</div>"
      ],
      "text/plain": [
       "    Unnamed: 0 Unnamed: 1      Unnamed: 2              Unnamed: 3  \\\n",
       "0          NaN        NaN             NaN                     NaN   \n",
       "1       Region  Affiliate  Major Category                Category   \n",
       "2  APAC Region      China       Fragrance  Cross Application Sets   \n",
       "3  APAC Region      China       Fragrance  Cross Application Sets   \n",
       "4  APAC Region      China       Fragrance  Cross Application Sets   \n",
       "\n",
       "      Unnamed: 4     Unnamed: 5 Calendar Year  /  Calendar Quarter (short)  \\\n",
       "0            NaN            NaN                                       2019   \n",
       "1      Corporate          Brand                                         Q1   \n",
       "2  AMORE PACIFIC  ANNICK GOUTAL                                          0   \n",
       "3   BEAUTYIMPORT  COSME DECORTE                                          0   \n",
       "4     CHANEL INC         CHANEL                                     535821   \n",
       "\n",
       "  Calendar Year  /  Calendar Quarter (short).1  \\\n",
       "0                                         2019   \n",
       "1                                           Q2   \n",
       "2                                            0   \n",
       "3                                            0   \n",
       "4                                       709842   \n",
       "\n",
       "  Calendar Year  /  Calendar Quarter (short).2  \\\n",
       "0                                         2019   \n",
       "1                                           Q3   \n",
       "2                                            0   \n",
       "3                                            0   \n",
       "4                                      1282286   \n",
       "\n",
       "  Calendar Year  /  Calendar Quarter (short).3  \\\n",
       "0                                         2019   \n",
       "1                                           Q4   \n",
       "2                                            0   \n",
       "3                                            0   \n",
       "4                                       417716   \n",
       "\n",
       "  Calendar Year  /  Calendar Quarter (short).4  \\\n",
       "0                                         2020   \n",
       "1                                           Q1   \n",
       "2                                            0   \n",
       "3                                            0   \n",
       "4                                       703534   \n",
       "\n",
       "  Calendar Year  /  Calendar Quarter (short).5  \\\n",
       "0                                         2020   \n",
       "1                                           Q2   \n",
       "2                                            0   \n",
       "3                                            0   \n",
       "4                                       793720   \n",
       "\n",
       "  Calendar Year  /  Calendar Quarter (short).6  \\\n",
       "0                                         2020   \n",
       "1                                           Q3   \n",
       "2                                            0   \n",
       "3                                            0   \n",
       "4                                      1501985   \n",
       "\n",
       "  Calendar Year  /  Calendar Quarter (short).7  \n",
       "0                                         2020  \n",
       "1                                           Q4  \n",
       "2                                            0  \n",
       "3                                            0  \n",
       "4                                       372384  "
      ]
     },
     "metadata": {},
     "output_type": "display_data"
    }
   ],
   "source": [
    "df = pd.read_excel('Raw Data_AA_Case Study.xlsx')\n",
    "display(df.shape)\n",
    "display(df.info())\n",
    "display(df.head())"
   ]
  },
  {
   "cell_type": "markdown",
   "metadata": {},
   "source": [
    "## II. Data Cleaning\n",
    "- Rename the columns\n",
    "- Drop the first two rows and reset index\n",
    "- Deal with null values"
   ]
  },
  {
   "cell_type": "code",
   "execution_count": 3,
   "metadata": {},
   "outputs": [],
   "source": [
    "old_columns = df.columns.tolist()\n",
    "new_columns = ['Region', 'Affiliate', 'Major Category', 'Category', 'Corporate', 'Brand',\n",
    "               '2019_Q1', '2019_Q2', '2019_Q3', '2019_Q4', '2020_Q1', '2020_Q2', '2020_Q3', '2020_Q4']"
   ]
  },
  {
   "cell_type": "code",
   "execution_count": 4,
   "metadata": {},
   "outputs": [
    {
     "data": {
      "text/html": [
       "<div>\n",
       "<style scoped>\n",
       "    .dataframe tbody tr th:only-of-type {\n",
       "        vertical-align: middle;\n",
       "    }\n",
       "\n",
       "    .dataframe tbody tr th {\n",
       "        vertical-align: top;\n",
       "    }\n",
       "\n",
       "    .dataframe thead th {\n",
       "        text-align: right;\n",
       "    }\n",
       "</style>\n",
       "<table border=\"1\" class=\"dataframe\">\n",
       "  <thead>\n",
       "    <tr style=\"text-align: right;\">\n",
       "      <th></th>\n",
       "      <th>Region</th>\n",
       "      <th>Affiliate</th>\n",
       "      <th>Major Category</th>\n",
       "      <th>Category</th>\n",
       "      <th>Corporate</th>\n",
       "      <th>Brand</th>\n",
       "      <th>2019_Q1</th>\n",
       "      <th>2019_Q2</th>\n",
       "      <th>2019_Q3</th>\n",
       "      <th>2019_Q4</th>\n",
       "      <th>2020_Q1</th>\n",
       "      <th>2020_Q2</th>\n",
       "      <th>2020_Q3</th>\n",
       "      <th>2020_Q4</th>\n",
       "    </tr>\n",
       "  </thead>\n",
       "  <tbody>\n",
       "    <tr>\n",
       "      <th>0</th>\n",
       "      <td>NaN</td>\n",
       "      <td>NaN</td>\n",
       "      <td>NaN</td>\n",
       "      <td>NaN</td>\n",
       "      <td>NaN</td>\n",
       "      <td>NaN</td>\n",
       "      <td>2019</td>\n",
       "      <td>2019</td>\n",
       "      <td>2019</td>\n",
       "      <td>2019</td>\n",
       "      <td>2020</td>\n",
       "      <td>2020</td>\n",
       "      <td>2020</td>\n",
       "      <td>2020</td>\n",
       "    </tr>\n",
       "    <tr>\n",
       "      <th>1</th>\n",
       "      <td>Region</td>\n",
       "      <td>Affiliate</td>\n",
       "      <td>Major Category</td>\n",
       "      <td>Category</td>\n",
       "      <td>Corporate</td>\n",
       "      <td>Brand</td>\n",
       "      <td>Q1</td>\n",
       "      <td>Q2</td>\n",
       "      <td>Q3</td>\n",
       "      <td>Q4</td>\n",
       "      <td>Q1</td>\n",
       "      <td>Q2</td>\n",
       "      <td>Q3</td>\n",
       "      <td>Q4</td>\n",
       "    </tr>\n",
       "    <tr>\n",
       "      <th>2</th>\n",
       "      <td>APAC Region</td>\n",
       "      <td>China</td>\n",
       "      <td>Fragrance</td>\n",
       "      <td>Cross Application Sets</td>\n",
       "      <td>AMORE PACIFIC</td>\n",
       "      <td>ANNICK GOUTAL</td>\n",
       "      <td>0</td>\n",
       "      <td>0</td>\n",
       "      <td>0</td>\n",
       "      <td>0</td>\n",
       "      <td>0</td>\n",
       "      <td>0</td>\n",
       "      <td>0</td>\n",
       "      <td>0</td>\n",
       "    </tr>\n",
       "    <tr>\n",
       "      <th>3</th>\n",
       "      <td>APAC Region</td>\n",
       "      <td>China</td>\n",
       "      <td>Fragrance</td>\n",
       "      <td>Cross Application Sets</td>\n",
       "      <td>BEAUTYIMPORT</td>\n",
       "      <td>COSME DECORTE</td>\n",
       "      <td>0</td>\n",
       "      <td>0</td>\n",
       "      <td>0</td>\n",
       "      <td>0</td>\n",
       "      <td>0</td>\n",
       "      <td>0</td>\n",
       "      <td>0</td>\n",
       "      <td>0</td>\n",
       "    </tr>\n",
       "    <tr>\n",
       "      <th>4</th>\n",
       "      <td>APAC Region</td>\n",
       "      <td>China</td>\n",
       "      <td>Fragrance</td>\n",
       "      <td>Cross Application Sets</td>\n",
       "      <td>CHANEL INC</td>\n",
       "      <td>CHANEL</td>\n",
       "      <td>535821</td>\n",
       "      <td>709842</td>\n",
       "      <td>1282286</td>\n",
       "      <td>417716</td>\n",
       "      <td>703534</td>\n",
       "      <td>793720</td>\n",
       "      <td>1501985</td>\n",
       "      <td>372384</td>\n",
       "    </tr>\n",
       "  </tbody>\n",
       "</table>\n",
       "</div>"
      ],
      "text/plain": [
       "        Region  Affiliate  Major Category                Category  \\\n",
       "0          NaN        NaN             NaN                     NaN   \n",
       "1       Region  Affiliate  Major Category                Category   \n",
       "2  APAC Region      China       Fragrance  Cross Application Sets   \n",
       "3  APAC Region      China       Fragrance  Cross Application Sets   \n",
       "4  APAC Region      China       Fragrance  Cross Application Sets   \n",
       "\n",
       "       Corporate          Brand 2019_Q1 2019_Q2  2019_Q3 2019_Q4 2020_Q1  \\\n",
       "0            NaN            NaN    2019    2019     2019    2019    2020   \n",
       "1      Corporate          Brand      Q1      Q2       Q3      Q4      Q1   \n",
       "2  AMORE PACIFIC  ANNICK GOUTAL       0       0        0       0       0   \n",
       "3   BEAUTYIMPORT  COSME DECORTE       0       0        0       0       0   \n",
       "4     CHANEL INC         CHANEL  535821  709842  1282286  417716  703534   \n",
       "\n",
       "  2020_Q2  2020_Q3 2020_Q4  \n",
       "0    2020     2020    2020  \n",
       "1      Q2       Q3      Q4  \n",
       "2       0        0       0  \n",
       "3       0        0       0  \n",
       "4  793720  1501985  372384  "
      ]
     },
     "execution_count": 4,
     "metadata": {},
     "output_type": "execute_result"
    }
   ],
   "source": [
    "# Rename the old columns' name to new columns' name\n",
    "df.rename(columns=dict(zip(old_columns, new_columns)), inplace=True)\n",
    "df.head()"
   ]
  },
  {
   "cell_type": "code",
   "execution_count": 5,
   "metadata": {},
   "outputs": [
    {
     "data": {
      "text/html": [
       "<div>\n",
       "<style scoped>\n",
       "    .dataframe tbody tr th:only-of-type {\n",
       "        vertical-align: middle;\n",
       "    }\n",
       "\n",
       "    .dataframe tbody tr th {\n",
       "        vertical-align: top;\n",
       "    }\n",
       "\n",
       "    .dataframe thead th {\n",
       "        text-align: right;\n",
       "    }\n",
       "</style>\n",
       "<table border=\"1\" class=\"dataframe\">\n",
       "  <thead>\n",
       "    <tr style=\"text-align: right;\">\n",
       "      <th></th>\n",
       "      <th>Region</th>\n",
       "      <th>Affiliate</th>\n",
       "      <th>Major Category</th>\n",
       "      <th>Category</th>\n",
       "      <th>Corporate</th>\n",
       "      <th>Brand</th>\n",
       "      <th>2019_Q1</th>\n",
       "      <th>2019_Q2</th>\n",
       "      <th>2019_Q3</th>\n",
       "      <th>2019_Q4</th>\n",
       "      <th>2020_Q1</th>\n",
       "      <th>2020_Q2</th>\n",
       "      <th>2020_Q3</th>\n",
       "      <th>2020_Q4</th>\n",
       "    </tr>\n",
       "  </thead>\n",
       "  <tbody>\n",
       "    <tr>\n",
       "      <th>0</th>\n",
       "      <td>APAC Region</td>\n",
       "      <td>China</td>\n",
       "      <td>Fragrance</td>\n",
       "      <td>Cross Application Sets</td>\n",
       "      <td>AMORE PACIFIC</td>\n",
       "      <td>ANNICK GOUTAL</td>\n",
       "      <td>0</td>\n",
       "      <td>0</td>\n",
       "      <td>0</td>\n",
       "      <td>0</td>\n",
       "      <td>0</td>\n",
       "      <td>0</td>\n",
       "      <td>0</td>\n",
       "      <td>0</td>\n",
       "    </tr>\n",
       "    <tr>\n",
       "      <th>1</th>\n",
       "      <td>APAC Region</td>\n",
       "      <td>China</td>\n",
       "      <td>Fragrance</td>\n",
       "      <td>Cross Application Sets</td>\n",
       "      <td>BEAUTYIMPORT</td>\n",
       "      <td>COSME DECORTE</td>\n",
       "      <td>0</td>\n",
       "      <td>0</td>\n",
       "      <td>0</td>\n",
       "      <td>0</td>\n",
       "      <td>0</td>\n",
       "      <td>0</td>\n",
       "      <td>0</td>\n",
       "      <td>0</td>\n",
       "    </tr>\n",
       "    <tr>\n",
       "      <th>2</th>\n",
       "      <td>APAC Region</td>\n",
       "      <td>China</td>\n",
       "      <td>Fragrance</td>\n",
       "      <td>Cross Application Sets</td>\n",
       "      <td>CHANEL INC</td>\n",
       "      <td>CHANEL</td>\n",
       "      <td>535821</td>\n",
       "      <td>709842</td>\n",
       "      <td>1282286</td>\n",
       "      <td>417716</td>\n",
       "      <td>703534</td>\n",
       "      <td>793720</td>\n",
       "      <td>1501985</td>\n",
       "      <td>372384</td>\n",
       "    </tr>\n",
       "    <tr>\n",
       "      <th>3</th>\n",
       "      <td>APAC Region</td>\n",
       "      <td>China</td>\n",
       "      <td>Fragrance</td>\n",
       "      <td>Cross Application Sets</td>\n",
       "      <td>CHANTECAILLE</td>\n",
       "      <td>CHANTECAILLE</td>\n",
       "      <td>0</td>\n",
       "      <td>0</td>\n",
       "      <td>0</td>\n",
       "      <td>0</td>\n",
       "      <td>0</td>\n",
       "      <td>0</td>\n",
       "      <td>0</td>\n",
       "      <td>0</td>\n",
       "    </tr>\n",
       "    <tr>\n",
       "      <th>4</th>\n",
       "      <td>APAC Region</td>\n",
       "      <td>China</td>\n",
       "      <td>Fragrance</td>\n",
       "      <td>Cross Application Sets</td>\n",
       "      <td>COTY</td>\n",
       "      <td>ALEXANDER MCQUEEN</td>\n",
       "      <td>0</td>\n",
       "      <td>0</td>\n",
       "      <td>0</td>\n",
       "      <td>0</td>\n",
       "      <td>0</td>\n",
       "      <td>0</td>\n",
       "      <td>0</td>\n",
       "      <td>0</td>\n",
       "    </tr>\n",
       "  </tbody>\n",
       "</table>\n",
       "</div>"
      ],
      "text/plain": [
       "        Region Affiliate Major Category                Category  \\\n",
       "0  APAC Region     China      Fragrance  Cross Application Sets   \n",
       "1  APAC Region     China      Fragrance  Cross Application Sets   \n",
       "2  APAC Region     China      Fragrance  Cross Application Sets   \n",
       "3  APAC Region     China      Fragrance  Cross Application Sets   \n",
       "4  APAC Region     China      Fragrance  Cross Application Sets   \n",
       "\n",
       "       Corporate              Brand 2019_Q1 2019_Q2  2019_Q3 2019_Q4 2020_Q1  \\\n",
       "0  AMORE PACIFIC      ANNICK GOUTAL       0       0        0       0       0   \n",
       "1   BEAUTYIMPORT      COSME DECORTE       0       0        0       0       0   \n",
       "2     CHANEL INC             CHANEL  535821  709842  1282286  417716  703534   \n",
       "3   CHANTECAILLE       CHANTECAILLE       0       0        0       0       0   \n",
       "4           COTY  ALEXANDER MCQUEEN       0       0        0       0       0   \n",
       "\n",
       "  2020_Q2  2020_Q3 2020_Q4  \n",
       "0       0        0       0  \n",
       "1       0        0       0  \n",
       "2  793720  1501985  372384  \n",
       "3       0        0       0  \n",
       "4       0        0       0  "
      ]
     },
     "execution_count": 5,
     "metadata": {},
     "output_type": "execute_result"
    }
   ],
   "source": [
    "# Drop the first two rows and reset index\n",
    "df.drop(index=df.index[:2], inplace=True)\n",
    "df.reset_index(drop=True, inplace=True)\n",
    "df.head()"
   ]
  },
  {
   "cell_type": "code",
   "execution_count": 6,
   "metadata": {},
   "outputs": [
    {
     "name": "stdout",
     "output_type": "stream",
     "text": [
      "<class 'pandas.core.frame.DataFrame'>\n",
      "RangeIndex: 29181 entries, 0 to 29180\n",
      "Data columns (total 14 columns):\n",
      " #   Column          Non-Null Count  Dtype \n",
      "---  ------          --------------  ----- \n",
      " 0   Region          29181 non-null  object\n",
      " 1   Affiliate       29181 non-null  object\n",
      " 2   Major Category  29181 non-null  object\n",
      " 3   Category        29181 non-null  object\n",
      " 4   Corporate       29181 non-null  object\n",
      " 5   Brand           29181 non-null  object\n",
      " 6   2019_Q1         27910 non-null  object\n",
      " 7   2019_Q2         27791 non-null  object\n",
      " 8   2019_Q3         27790 non-null  object\n",
      " 9   2019_Q4         27847 non-null  object\n",
      " 10  2020_Q1         27598 non-null  object\n",
      " 11  2020_Q2         27298 non-null  object\n",
      " 12  2020_Q3         27248 non-null  object\n",
      " 13  2020_Q4         27194 non-null  object\n",
      "dtypes: object(14)\n",
      "memory usage: 3.1+ MB\n"
     ]
    }
   ],
   "source": [
    "# Check for null values\n",
    "df.info()"
   ]
  },
  {
   "cell_type": "markdown",
   "metadata": {},
   "source": [
    "- Calerder Year / Quarter has null values"
   ]
  },
  {
   "cell_type": "code",
   "execution_count": 7,
   "metadata": {},
   "outputs": [
    {
     "name": "stdout",
     "output_type": "stream",
     "text": [
      "<class 'pandas.core.frame.DataFrame'>\n",
      "RangeIndex: 29181 entries, 0 to 29180\n",
      "Data columns (total 14 columns):\n",
      " #   Column          Non-Null Count  Dtype \n",
      "---  ------          --------------  ----- \n",
      " 0   Region          29181 non-null  object\n",
      " 1   Affiliate       29181 non-null  object\n",
      " 2   Major Category  29181 non-null  object\n",
      " 3   Category        29181 non-null  object\n",
      " 4   Corporate       29181 non-null  object\n",
      " 5   Brand           29181 non-null  object\n",
      " 6   2019_Q1         29181 non-null  int64 \n",
      " 7   2019_Q2         29181 non-null  int64 \n",
      " 8   2019_Q3         29181 non-null  int64 \n",
      " 9   2019_Q4         29181 non-null  int64 \n",
      " 10  2020_Q1         29181 non-null  int64 \n",
      " 11  2020_Q2         29181 non-null  int64 \n",
      " 12  2020_Q3         29181 non-null  int64 \n",
      " 13  2020_Q4         29181 non-null  int64 \n",
      "dtypes: int64(8), object(6)\n",
      "memory usage: 3.1+ MB\n"
     ]
    }
   ],
   "source": [
    "# Fill the null value to 0\n",
    "df.fillna(value=0, inplace=True)\n",
    "df.info()"
   ]
  },
  {
   "cell_type": "code",
   "execution_count": 8,
   "metadata": {},
   "outputs": [],
   "source": [
    "# df.to_excel('./clean.xlsx')"
   ]
  },
  {
   "cell_type": "code",
   "execution_count": 9,
   "metadata": {},
   "outputs": [
    {
     "data": {
      "text/plain": [
       "array(['APAC Region', 'North America'], dtype=object)"
      ]
     },
     "metadata": {},
     "output_type": "display_data"
    },
    {
     "data": {
      "text/plain": [
       "array(['China', 'Hong Kong', 'Indonesia', 'Japan', 'Korea', 'Singapore',\n",
       "       'Taiwan', 'Thailand', 'Canada', 'United States'], dtype=object)"
      ]
     },
     "metadata": {},
     "output_type": "display_data"
    },
    {
     "data": {
      "text/plain": [
       "array(['Fragrance', 'Haircare', 'Makeup', 'Skincare', 'Other'],\n",
       "      dtype=object)"
      ]
     },
     "metadata": {},
     "output_type": "display_data"
    }
   ],
   "source": [
    "# Check the unique values\n",
    "for col in df.columns[:3]:\n",
    "    display(df[col].unique())"
   ]
  },
  {
   "cell_type": "markdown",
   "metadata": {},
   "source": [
    "- 2 regions\n",
    "- 8 countries in APAC and 2 countries in NA\n",
    "- 5 major Category"
   ]
  },
  {
   "cell_type": "code",
   "execution_count": 10,
   "metadata": {},
   "outputs": [
    {
     "name": "stdout",
     "output_type": "stream",
     "text": [
      "Category : 85\n",
      "Corporate : 507\n",
      "Brand : 837\n"
     ]
    }
   ],
   "source": [
    "for col in df.columns[3:6]:\n",
    "    print(col, \":\", df[col].nunique())"
   ]
  },
  {
   "cell_type": "markdown",
   "metadata": {},
   "source": [
    "## III. LIP Category\n",
    "- Create a sub-df only contains lip category"
   ]
  },
  {
   "cell_type": "code",
   "execution_count": 11,
   "metadata": {},
   "outputs": [
    {
     "data": {
      "text/html": [
       "<div>\n",
       "<style scoped>\n",
       "    .dataframe tbody tr th:only-of-type {\n",
       "        vertical-align: middle;\n",
       "    }\n",
       "\n",
       "    .dataframe tbody tr th {\n",
       "        vertical-align: top;\n",
       "    }\n",
       "\n",
       "    .dataframe thead th {\n",
       "        text-align: right;\n",
       "    }\n",
       "</style>\n",
       "<table border=\"1\" class=\"dataframe\">\n",
       "  <thead>\n",
       "    <tr style=\"text-align: right;\">\n",
       "      <th></th>\n",
       "      <th>Region</th>\n",
       "      <th>Affiliate</th>\n",
       "      <th>Major Category</th>\n",
       "      <th>Category</th>\n",
       "      <th>Corporate</th>\n",
       "      <th>Brand</th>\n",
       "      <th>2019_Q1</th>\n",
       "      <th>2019_Q2</th>\n",
       "      <th>2019_Q3</th>\n",
       "      <th>2019_Q4</th>\n",
       "      <th>2020_Q1</th>\n",
       "      <th>2020_Q2</th>\n",
       "      <th>2020_Q3</th>\n",
       "      <th>2020_Q4</th>\n",
       "    </tr>\n",
       "  </thead>\n",
       "  <tbody>\n",
       "    <tr>\n",
       "      <th>0</th>\n",
       "      <td>APAC Region</td>\n",
       "      <td>China</td>\n",
       "      <td>Makeup</td>\n",
       "      <td>All Other Lips</td>\n",
       "      <td>AMORE PACIFIC</td>\n",
       "      <td>HERA</td>\n",
       "      <td>0</td>\n",
       "      <td>0</td>\n",
       "      <td>0</td>\n",
       "      <td>0</td>\n",
       "      <td>0</td>\n",
       "      <td>0</td>\n",
       "      <td>0</td>\n",
       "      <td>0</td>\n",
       "    </tr>\n",
       "    <tr>\n",
       "      <th>1</th>\n",
       "      <td>APAC Region</td>\n",
       "      <td>China</td>\n",
       "      <td>Makeup</td>\n",
       "      <td>All Other Lips</td>\n",
       "      <td>AMORE PACIFIC</td>\n",
       "      <td>LANEIGE</td>\n",
       "      <td>2</td>\n",
       "      <td>18</td>\n",
       "      <td>0</td>\n",
       "      <td>0</td>\n",
       "      <td>0</td>\n",
       "      <td>0</td>\n",
       "      <td>0</td>\n",
       "      <td>0</td>\n",
       "    </tr>\n",
       "    <tr>\n",
       "      <th>2</th>\n",
       "      <td>APAC Region</td>\n",
       "      <td>China</td>\n",
       "      <td>Makeup</td>\n",
       "      <td>All Other Lips</td>\n",
       "      <td>BEAUTY INC.</td>\n",
       "      <td>BEAUTY INC 21</td>\n",
       "      <td>0</td>\n",
       "      <td>0</td>\n",
       "      <td>0</td>\n",
       "      <td>0</td>\n",
       "      <td>0</td>\n",
       "      <td>0</td>\n",
       "      <td>0</td>\n",
       "      <td>0</td>\n",
       "    </tr>\n",
       "    <tr>\n",
       "      <th>3</th>\n",
       "      <td>APAC Region</td>\n",
       "      <td>China</td>\n",
       "      <td>Makeup</td>\n",
       "      <td>All Other Lips</td>\n",
       "      <td>BEAUTY INC.</td>\n",
       "      <td>BEAUTY INC 29</td>\n",
       "      <td>0</td>\n",
       "      <td>0</td>\n",
       "      <td>0</td>\n",
       "      <td>0</td>\n",
       "      <td>0</td>\n",
       "      <td>0</td>\n",
       "      <td>0</td>\n",
       "      <td>0</td>\n",
       "    </tr>\n",
       "    <tr>\n",
       "      <th>4</th>\n",
       "      <td>APAC Region</td>\n",
       "      <td>China</td>\n",
       "      <td>Makeup</td>\n",
       "      <td>All Other Lips</td>\n",
       "      <td>L'OREAL INC.</td>\n",
       "      <td>LANCOME</td>\n",
       "      <td>0</td>\n",
       "      <td>0</td>\n",
       "      <td>0</td>\n",
       "      <td>0</td>\n",
       "      <td>0</td>\n",
       "      <td>0</td>\n",
       "      <td>0</td>\n",
       "      <td>0</td>\n",
       "    </tr>\n",
       "  </tbody>\n",
       "</table>\n",
       "</div>"
      ],
      "text/plain": [
       "        Region Affiliate Major Category        Category      Corporate  \\\n",
       "0  APAC Region     China         Makeup  All Other Lips  AMORE PACIFIC   \n",
       "1  APAC Region     China         Makeup  All Other Lips  AMORE PACIFIC   \n",
       "2  APAC Region     China         Makeup  All Other Lips    BEAUTY INC.   \n",
       "3  APAC Region     China         Makeup  All Other Lips    BEAUTY INC.   \n",
       "4  APAC Region     China         Makeup  All Other Lips   L'OREAL INC.   \n",
       "\n",
       "           Brand  2019_Q1  2019_Q2  2019_Q3  2019_Q4  2020_Q1  2020_Q2  \\\n",
       "0           HERA        0        0        0        0        0        0   \n",
       "1        LANEIGE        2       18        0        0        0        0   \n",
       "2  BEAUTY INC 21        0        0        0        0        0        0   \n",
       "3  BEAUTY INC 29        0        0        0        0        0        0   \n",
       "4        LANCOME        0        0        0        0        0        0   \n",
       "\n",
       "   2020_Q3  2020_Q4  \n",
       "0        0        0  \n",
       "1        0        0  \n",
       "2        0        0  \n",
       "3        0        0  \n",
       "4        0        0  "
      ]
     },
     "metadata": {},
     "output_type": "display_data"
    },
    {
     "name": "stdout",
     "output_type": "stream",
     "text": [
      "<class 'pandas.core.frame.DataFrame'>\n",
      "RangeIndex: 3140 entries, 0 to 3139\n",
      "Data columns (total 14 columns):\n",
      " #   Column          Non-Null Count  Dtype \n",
      "---  ------          --------------  ----- \n",
      " 0   Region          3140 non-null   object\n",
      " 1   Affiliate       3140 non-null   object\n",
      " 2   Major Category  3140 non-null   object\n",
      " 3   Category        3140 non-null   object\n",
      " 4   Corporate       3140 non-null   object\n",
      " 5   Brand           3140 non-null   object\n",
      " 6   2019_Q1         3140 non-null   int64 \n",
      " 7   2019_Q2         3140 non-null   int64 \n",
      " 8   2019_Q3         3140 non-null   int64 \n",
      " 9   2019_Q4         3140 non-null   int64 \n",
      " 10  2020_Q1         3140 non-null   int64 \n",
      " 11  2020_Q2         3140 non-null   int64 \n",
      " 12  2020_Q3         3140 non-null   int64 \n",
      " 13  2020_Q4         3140 non-null   int64 \n",
      "dtypes: int64(8), object(6)\n",
      "memory usage: 343.6+ KB\n"
     ]
    },
    {
     "data": {
      "text/plain": [
       "None"
      ]
     },
     "metadata": {},
     "output_type": "display_data"
    }
   ],
   "source": [
    "lip = df[df['Category'].str.contains('Lip')]\n",
    "lip.reset_index(drop=True, inplace=True)\n",
    "display(lip.head())\n",
    "display(lip.info())"
   ]
  },
  {
   "cell_type": "markdown",
   "metadata": {},
   "source": [
    "## *Functions*"
   ]
  },
  {
   "cell_type": "code",
   "execution_count": 12,
   "metadata": {},
   "outputs": [],
   "source": [
    "def quarter_sale_market_share(df, title):\n",
    "    '''\n",
    "    Find BEAUTY INC. 2019, 2020 4th quarter sale and market share.\n",
    "    \n",
    "    Input: \n",
    "    - df: sub-dataframe\n",
    "    - title: region or affiliate name\n",
    "    \n",
    "    Output:\n",
    "    - 2019, 2020 4th quarter sale and market share gain/loss\n",
    "    \n",
    "    Return:\n",
    "    - How much market share was gained/lost\n",
    "    '''\n",
    "    \n",
    "    print(\"{}:\".format(title))\n",
    "    \n",
    "    # Find the index number for BEAUTY INC. in the given df\n",
    "    index = df[df['Corporate'] == \"BEAUTY INC.\"].index[0]\n",
    "    \n",
    "    # 4th quarter sale\n",
    "    beauty_2019_q4 = df['2019_Q4'].iloc[index]\n",
    "    beauty_2020_q4 = df['2020_Q4'].iloc[index]\n",
    "    \n",
    "    # Switch to scientific notation\n",
    "    beauty_19_q4 = \"{:.1e}\".format(beauty_2019_q4)\n",
    "    beauty_20_q4 = \"{:.1e}\".format(beauty_2020_q4)\n",
    "    \n",
    "    print(\"In 2020 quarter 4, BEAUTY INC.'s sale is ${}.\".format(beauty_20_q4))\n",
    "    print(\"In 2019 quarter 4, BEAUTY INC.'s sale is ${}.\".format(beauty_19_q4))\n",
    "    \n",
    "    \n",
    "    # All corporates' 4th quarter sales\n",
    "    corp_2019_q4 = df['2019_Q4'].values.sum()\n",
    "    corp_2020_q4 = df['2020_Q4'].values.sum()\n",
    "    \n",
    "    # Market share\n",
    "    ms_2019_q4 = beauty_2019_q4 / corp_2019_q4 *100\n",
    "    ms_2020_q4 = beauty_2020_q4 / corp_2020_q4 *100\n",
    "    \n",
    "    # Market share difference compare with the prior year\n",
    "    ms_q4_diff = round((ms_2020_q4 - ms_2019_q4),1)\n",
    "    \n",
    "    print(\"In 2020 quarter 4, BEAUTY INC.'s market share is {:.1f}%.\".format(ms_2020_q4))\n",
    "    print(\"In 2019 quarter 4, BEAUTY INC.'s market share is {:.1f}%.\".format(ms_2019_q4))\n",
    "    \n",
    "    # Gain or Loss?\n",
    "    if ms_q4_diff > 0:\n",
    "        print(\"BEAUTY INC. gain {}% market share in 2020 Q4.\".format(ms_q4_diff))\n",
    "    else:\n",
    "        print(\"BEAUTY INC. loss {}% market share in 2020 Q4.\".format(abs(ms_q4_diff)))\n",
    "\n",
    "    return beauty_19_q4, beauty_20_q4, ms_q4_diff"
   ]
  },
  {
   "cell_type": "markdown",
   "metadata": {},
   "source": [
    "### Worldwide"
   ]
  },
  {
   "cell_type": "code",
   "execution_count": 13,
   "metadata": {
    "scrolled": true
   },
   "outputs": [
    {
     "data": {
      "text/html": [
       "<div>\n",
       "<style scoped>\n",
       "    .dataframe tbody tr th:only-of-type {\n",
       "        vertical-align: middle;\n",
       "    }\n",
       "\n",
       "    .dataframe tbody tr th {\n",
       "        vertical-align: top;\n",
       "    }\n",
       "\n",
       "    .dataframe thead th {\n",
       "        text-align: right;\n",
       "    }\n",
       "</style>\n",
       "<table border=\"1\" class=\"dataframe\">\n",
       "  <thead>\n",
       "    <tr style=\"text-align: right;\">\n",
       "      <th></th>\n",
       "      <th>Corporate</th>\n",
       "      <th>2019_Q1</th>\n",
       "      <th>2019_Q2</th>\n",
       "      <th>2019_Q3</th>\n",
       "      <th>2019_Q4</th>\n",
       "      <th>2020_Q1</th>\n",
       "      <th>2020_Q2</th>\n",
       "      <th>2020_Q3</th>\n",
       "      <th>2020_Q4</th>\n",
       "    </tr>\n",
       "  </thead>\n",
       "  <tbody>\n",
       "    <tr>\n",
       "      <th>0</th>\n",
       "      <td>111 HARLEY STREET</td>\n",
       "      <td>15430</td>\n",
       "      <td>7431</td>\n",
       "      <td>3706</td>\n",
       "      <td>5192</td>\n",
       "      <td>1901</td>\n",
       "      <td>1716</td>\n",
       "      <td>1549</td>\n",
       "      <td>1922</td>\n",
       "    </tr>\n",
       "    <tr>\n",
       "      <th>1</th>\n",
       "      <td>3LAB</td>\n",
       "      <td>12854</td>\n",
       "      <td>11121</td>\n",
       "      <td>9830</td>\n",
       "      <td>12814</td>\n",
       "      <td>9382</td>\n",
       "      <td>4089</td>\n",
       "      <td>1602</td>\n",
       "      <td>0</td>\n",
       "    </tr>\n",
       "    <tr>\n",
       "      <th>2</th>\n",
       "      <td>AGE SCIENCES INC.</td>\n",
       "      <td>1194</td>\n",
       "      <td>890</td>\n",
       "      <td>1084</td>\n",
       "      <td>1321</td>\n",
       "      <td>1635</td>\n",
       "      <td>1791</td>\n",
       "      <td>1299</td>\n",
       "      <td>1275</td>\n",
       "    </tr>\n",
       "    <tr>\n",
       "      <th>3</th>\n",
       "      <td>ALL OTHERS</td>\n",
       "      <td>82604939</td>\n",
       "      <td>84917394</td>\n",
       "      <td>76858532</td>\n",
       "      <td>102569091</td>\n",
       "      <td>70703552</td>\n",
       "      <td>44829808</td>\n",
       "      <td>64504789</td>\n",
       "      <td>78369534</td>\n",
       "    </tr>\n",
       "    <tr>\n",
       "      <th>4</th>\n",
       "      <td>ALLERGAN</td>\n",
       "      <td>46711</td>\n",
       "      <td>32772</td>\n",
       "      <td>31224</td>\n",
       "      <td>32550</td>\n",
       "      <td>41778</td>\n",
       "      <td>18400</td>\n",
       "      <td>0</td>\n",
       "      <td>0</td>\n",
       "    </tr>\n",
       "  </tbody>\n",
       "</table>\n",
       "</div>"
      ],
      "text/plain": [
       "           Corporate   2019_Q1   2019_Q2   2019_Q3    2019_Q4   2020_Q1  \\\n",
       "0  111 HARLEY STREET     15430      7431      3706       5192      1901   \n",
       "1               3LAB     12854     11121      9830      12814      9382   \n",
       "2  AGE SCIENCES INC.      1194       890      1084       1321      1635   \n",
       "3         ALL OTHERS  82604939  84917394  76858532  102569091  70703552   \n",
       "4           ALLERGAN     46711     32772     31224      32550     41778   \n",
       "\n",
       "    2020_Q2   2020_Q3   2020_Q4  \n",
       "0      1716      1549      1922  \n",
       "1      4089      1602         0  \n",
       "2      1791      1299      1275  \n",
       "3  44829808  64504789  78369534  \n",
       "4     18400         0         0  "
      ]
     },
     "execution_count": 13,
     "metadata": {},
     "output_type": "execute_result"
    }
   ],
   "source": [
    "# Group the same corporate and find sum of year/quarter sales\n",
    "lip_ww = lip.groupby(['Corporate'])['2019_Q1', '2019_Q2', '2019_Q3', '2019_Q4', \n",
    "                                    '2020_Q1', '2020_Q2', '2020_Q3', '2020_Q4'].sum()\n",
    "lip_ww.reset_index(inplace=True)\n",
    "lip_ww.head()"
   ]
  },
  {
   "cell_type": "code",
   "execution_count": 14,
   "metadata": {},
   "outputs": [
    {
     "name": "stdout",
     "output_type": "stream",
     "text": [
      "Worldwide:\n",
      "In 2020 quarter 4, BEAUTY INC.'s sale is $2.0e+08.\n",
      "In 2019 quarter 4, BEAUTY INC.'s sale is $3.2e+08.\n",
      "In 2020 quarter 4, BEAUTY INC.'s market share is 22.4%.\n",
      "In 2019 quarter 4, BEAUTY INC.'s market share is 28.5%.\n",
      "BEAUTY INC. loss 6.2% market share in 2020 Q4.\n"
     ]
    }
   ],
   "source": [
    "ww_19s, ww_20s, ww_ms_diff = quarter_sale_market_share(lip_ww, \"Worldwide\")"
   ]
  },
  {
   "cell_type": "markdown",
   "metadata": {},
   "source": [
    "### North America"
   ]
  },
  {
   "cell_type": "code",
   "execution_count": 15,
   "metadata": {},
   "outputs": [],
   "source": [
    "NA_region = lip.loc[lip['Region'] == \"North America\"]\n",
    "\n",
    "lip_na = NA_region.groupby(['Corporate'])['2019_Q1', '2019_Q2', '2019_Q3', '2019_Q4', \n",
    "                                          '2020_Q1', '2020_Q2', '2020_Q3', '2020_Q4'].sum()\n",
    "lip_na.reset_index(inplace=True)"
   ]
  },
  {
   "cell_type": "code",
   "execution_count": 16,
   "metadata": {},
   "outputs": [
    {
     "name": "stdout",
     "output_type": "stream",
     "text": [
      "North America:\n",
      "In 2020 quarter 4, BEAUTY INC.'s sale is $6.8e+07.\n",
      "In 2019 quarter 4, BEAUTY INC.'s sale is $1.2e+08.\n",
      "In 2020 quarter 4, BEAUTY INC.'s market share is 27.8%.\n",
      "In 2019 quarter 4, BEAUTY INC.'s market share is 30.2%.\n",
      "BEAUTY INC. loss 2.4% market share in 2020 Q4.\n"
     ]
    }
   ],
   "source": [
    "na_19s, na_20s, na_ms_diff = quarter_sale_market_share(lip_na, \"North America\")"
   ]
  },
  {
   "cell_type": "markdown",
   "metadata": {},
   "source": [
    "### APAC: Asia/Pacific"
   ]
  },
  {
   "cell_type": "code",
   "execution_count": 17,
   "metadata": {},
   "outputs": [],
   "source": [
    "APAC_region = lip.loc[lip['Region'] == \"APAC Region\"]\n",
    "\n",
    "lip_apac = APAC_region.groupby(['Corporate'])['2019_Q1', '2019_Q2', '2019_Q3', '2019_Q4', \n",
    "                                              '2020_Q1', '2020_Q2', '2020_Q3', '2020_Q4'].sum()\n",
    "lip_apac.reset_index(inplace=True)"
   ]
  },
  {
   "cell_type": "code",
   "execution_count": 18,
   "metadata": {},
   "outputs": [
    {
     "name": "stdout",
     "output_type": "stream",
     "text": [
      "APAC:\n",
      "In 2020 quarter 4, BEAUTY INC.'s sale is $1.3e+08.\n",
      "In 2019 quarter 4, BEAUTY INC.'s sale is $2.0e+08.\n",
      "In 2020 quarter 4, BEAUTY INC.'s market share is 20.3%.\n",
      "In 2019 quarter 4, BEAUTY INC.'s market share is 27.6%.\n",
      "BEAUTY INC. loss 7.3% market share in 2020 Q4.\n"
     ]
    }
   ],
   "source": [
    "apac_19s, apac_20s, apac_ms_diff = quarter_sale_market_share(lip_apac, \"APAC\")"
   ]
  },
  {
   "cell_type": "markdown",
   "metadata": {},
   "source": [
    "### Unites States"
   ]
  },
  {
   "cell_type": "code",
   "execution_count": 19,
   "metadata": {},
   "outputs": [],
   "source": [
    "US_affiliate = lip.loc[lip['Affiliate'] == \"United States\"]\n",
    "\n",
    "lip_us = US_affiliate.groupby(['Corporate'])['2019_Q1', '2019_Q2', '2019_Q3', '2019_Q4', \n",
    "                                             '2020_Q1', '2020_Q2', '2020_Q3', '2020_Q4'].sum()\n",
    "lip_us.reset_index(inplace=True)"
   ]
  },
  {
   "cell_type": "code",
   "execution_count": 20,
   "metadata": {},
   "outputs": [
    {
     "name": "stdout",
     "output_type": "stream",
     "text": [
      "America:\n",
      "In 2020 quarter 4, BEAUTY INC.'s sale is $6.0e+07.\n",
      "In 2019 quarter 4, BEAUTY INC.'s sale is $1.1e+08.\n",
      "In 2020 quarter 4, BEAUTY INC.'s market share is 28.5%.\n",
      "In 2019 quarter 4, BEAUTY INC.'s market share is 30.5%.\n",
      "BEAUTY INC. loss 2.0% market share in 2020 Q4.\n"
     ]
    }
   ],
   "source": [
    "us_19s, us_20s, us_ms_diff = quarter_sale_market_share(lip_us, \"America\")"
   ]
  },
  {
   "cell_type": "markdown",
   "metadata": {},
   "source": [
    "### Canada"
   ]
  },
  {
   "cell_type": "code",
   "execution_count": 21,
   "metadata": {},
   "outputs": [],
   "source": [
    "CA_affiliate = lip.loc[lip['Affiliate'] == \"Canada\"]\n",
    "\n",
    "lip_ca = CA_affiliate.groupby(['Corporate'])['2019_Q1', '2019_Q2', '2019_Q3', '2019_Q4', \n",
    "                                             '2020_Q1', '2020_Q2', '2020_Q3', '2020_Q4'].sum()\n",
    "lip_ca.reset_index(inplace=True)"
   ]
  },
  {
   "cell_type": "code",
   "execution_count": 22,
   "metadata": {},
   "outputs": [
    {
     "name": "stdout",
     "output_type": "stream",
     "text": [
      "Canada:\n",
      "In 2020 quarter 4, BEAUTY INC.'s sale is $8.2e+06.\n",
      "In 2019 quarter 4, BEAUTY INC.'s sale is $1.7e+07.\n",
      "In 2020 quarter 4, BEAUTY INC.'s market share is 23.7%.\n",
      "In 2019 quarter 4, BEAUTY INC.'s market share is 28.5%.\n",
      "BEAUTY INC. loss 4.8% market share in 2020 Q4.\n"
     ]
    }
   ],
   "source": [
    "ca_19s, ca_20s, ca_ms_diff = quarter_sale_market_share(lip_ca, \"Canada\")"
   ]
  },
  {
   "cell_type": "markdown",
   "metadata": {},
   "source": [
    "### China"
   ]
  },
  {
   "cell_type": "code",
   "execution_count": 23,
   "metadata": {},
   "outputs": [],
   "source": [
    "CH_affiliate = lip.loc[lip['Affiliate'] == \"China\"]\n",
    "\n",
    "lip_ch = CH_affiliate.groupby(['Corporate'])['2019_Q1', '2019_Q2', '2019_Q3', '2019_Q4', \n",
    "                                             '2020_Q1', '2020_Q2', '2020_Q3', '2020_Q4'].sum()\n",
    "lip_ch.reset_index(inplace=True)"
   ]
  },
  {
   "cell_type": "code",
   "execution_count": 24,
   "metadata": {},
   "outputs": [
    {
     "name": "stdout",
     "output_type": "stream",
     "text": [
      "China:\n",
      "In 2020 quarter 4, BEAUTY INC.'s sale is $1.0e+08.\n",
      "In 2019 quarter 4, BEAUTY INC.'s sale is $1.5e+08.\n",
      "In 2020 quarter 4, BEAUTY INC.'s market share is 20.3%.\n",
      "In 2019 quarter 4, BEAUTY INC.'s market share is 30.2%.\n",
      "BEAUTY INC. loss 9.9% market share in 2020 Q4.\n"
     ]
    }
   ],
   "source": [
    "ch_19s, ch_20s, ch_ms_diff = quarter_sale_market_share(lip_ch, \"China\")"
   ]
  },
  {
   "cell_type": "markdown",
   "metadata": {},
   "source": [
    "### Hong Kong"
   ]
  },
  {
   "cell_type": "code",
   "execution_count": 25,
   "metadata": {},
   "outputs": [],
   "source": [
    "HK_affiliate = lip.loc[lip['Affiliate'] == \"Hong Kong\"]\n",
    "\n",
    "lip_hk = HK_affiliate.groupby(['Corporate'])['2019_Q1', '2019_Q2', '2019_Q3', '2019_Q4', \n",
    "                                             '2020_Q1', '2020_Q2', '2020_Q3', '2020_Q4'].sum()\n",
    "lip_hk.reset_index(inplace=True)"
   ]
  },
  {
   "cell_type": "code",
   "execution_count": 26,
   "metadata": {},
   "outputs": [
    {
     "name": "stdout",
     "output_type": "stream",
     "text": [
      "Hong Kong:\n",
      "In 2020 quarter 4, BEAUTY INC.'s sale is $3.9e+06.\n",
      "In 2019 quarter 4, BEAUTY INC.'s sale is $8.7e+06.\n",
      "In 2020 quarter 4, BEAUTY INC.'s market share is 16.2%.\n",
      "In 2019 quarter 4, BEAUTY INC.'s market share is 19.0%.\n",
      "BEAUTY INC. loss 2.7% market share in 2020 Q4.\n"
     ]
    }
   ],
   "source": [
    "hk_19s, hk_20s, hk_ms_diff = quarter_sale_market_share(lip_hk, \"Hong Kong\")"
   ]
  },
  {
   "cell_type": "markdown",
   "metadata": {},
   "source": [
    "### Indonesia"
   ]
  },
  {
   "cell_type": "code",
   "execution_count": 27,
   "metadata": {},
   "outputs": [],
   "source": [
    "ID_affiliate = lip.loc[lip['Affiliate'] == \"Indonesia\"]\n",
    "\n",
    "lip_id = ID_affiliate.groupby(['Corporate'])['2019_Q1', '2019_Q2', '2019_Q3', '2019_Q4', \n",
    "                                             '2020_Q1', '2020_Q2', '2020_Q3', '2020_Q4'].sum()\n",
    "lip_id.reset_index(inplace=True)"
   ]
  },
  {
   "cell_type": "code",
   "execution_count": 28,
   "metadata": {},
   "outputs": [
    {
     "name": "stdout",
     "output_type": "stream",
     "text": [
      "Indonesia:\n",
      "In 2020 quarter 4, BEAUTY INC.'s sale is $1.8e+05.\n",
      "In 2019 quarter 4, BEAUTY INC.'s sale is $6.0e+05.\n",
      "In 2020 quarter 4, BEAUTY INC.'s market share is 15.4%.\n",
      "In 2019 quarter 4, BEAUTY INC.'s market share is 22.8%.\n",
      "BEAUTY INC. loss 7.4% market share in 2020 Q4.\n"
     ]
    }
   ],
   "source": [
    "id_19s, id_20s, id_ms_diff = quarter_sale_market_share(lip_id, \"Indonesia\")"
   ]
  },
  {
   "cell_type": "markdown",
   "metadata": {},
   "source": [
    "### Japan"
   ]
  },
  {
   "cell_type": "code",
   "execution_count": 29,
   "metadata": {},
   "outputs": [],
   "source": [
    "JP_affiliate = lip.loc[lip['Affiliate'] == \"Japan\"]\n",
    "\n",
    "lip_jp = JP_affiliate.groupby(['Corporate'])['2019_Q1', '2019_Q2', '2019_Q3', '2019_Q4', \n",
    "                                             '2020_Q1', '2020_Q2', '2020_Q3', '2020_Q4'].sum()\n",
    "lip_jp.reset_index(inplace=True)"
   ]
  },
  {
   "cell_type": "code",
   "execution_count": 30,
   "metadata": {},
   "outputs": [
    {
     "name": "stdout",
     "output_type": "stream",
     "text": [
      "Japan:\n",
      "In 2020 quarter 4, BEAUTY INC.'s sale is $7.2e+06.\n",
      "In 2019 quarter 4, BEAUTY INC.'s sale is $1.7e+07.\n",
      "In 2020 quarter 4, BEAUTY INC.'s market share is 15.7%.\n",
      "In 2019 quarter 4, BEAUTY INC.'s market share is 19.5%.\n",
      "BEAUTY INC. loss 3.8% market share in 2020 Q4.\n"
     ]
    }
   ],
   "source": [
    "jp_19s, jp_20s, jp_ms_diff = quarter_sale_market_share(lip_jp, \"Japan\")"
   ]
  },
  {
   "cell_type": "markdown",
   "metadata": {},
   "source": [
    "### Korea"
   ]
  },
  {
   "cell_type": "code",
   "execution_count": 31,
   "metadata": {},
   "outputs": [],
   "source": [
    "KR_affiliate = lip.loc[lip['Affiliate'] == \"Korea\"]\n",
    "\n",
    "lip_kr = KR_affiliate.groupby(['Corporate'])['2019_Q1', '2019_Q2', '2019_Q3', '2019_Q4', \n",
    "                                             '2020_Q1', '2020_Q2', '2020_Q3', '2020_Q4'].sum()\n",
    "lip_kr.reset_index(inplace=True)"
   ]
  },
  {
   "cell_type": "code",
   "execution_count": 32,
   "metadata": {},
   "outputs": [
    {
     "name": "stdout",
     "output_type": "stream",
     "text": [
      "Korea:\n",
      "In 2020 quarter 4, BEAUTY INC.'s sale is $7.4e+06.\n",
      "In 2019 quarter 4, BEAUTY INC.'s sale is $1.4e+07.\n",
      "In 2020 quarter 4, BEAUTY INC.'s market share is 22.6%.\n",
      "In 2019 quarter 4, BEAUTY INC.'s market share is 23.4%.\n",
      "BEAUTY INC. loss 0.8% market share in 2020 Q4.\n"
     ]
    }
   ],
   "source": [
    "kr_19s, kr_20s, kr_ms_diff = quarter_sale_market_share(lip_kr, \"Korea\")"
   ]
  },
  {
   "cell_type": "markdown",
   "metadata": {},
   "source": [
    "### Singapore"
   ]
  },
  {
   "cell_type": "code",
   "execution_count": 33,
   "metadata": {},
   "outputs": [],
   "source": [
    "SP_affiliate = lip.loc[lip['Affiliate'] == \"Singapore\"]\n",
    "\n",
    "lip_sp = SP_affiliate.groupby(['Corporate'])['2019_Q1', '2019_Q2', '2019_Q3', '2019_Q4', \n",
    "                                             '2020_Q1', '2020_Q2', '2020_Q3', '2020_Q4'].sum()\n",
    "lip_sp.reset_index(inplace=True)"
   ]
  },
  {
   "cell_type": "code",
   "execution_count": 34,
   "metadata": {},
   "outputs": [
    {
     "name": "stdout",
     "output_type": "stream",
     "text": [
      "Singapore:\n",
      "In 2020 quarter 4, BEAUTY INC.'s sale is $8.2e+05.\n",
      "In 2019 quarter 4, BEAUTY INC.'s sale is $1.7e+06.\n",
      "In 2020 quarter 4, BEAUTY INC.'s market share is 14.8%.\n",
      "In 2019 quarter 4, BEAUTY INC.'s market share is 18.7%.\n",
      "BEAUTY INC. loss 3.9% market share in 2020 Q4.\n"
     ]
    }
   ],
   "source": [
    "sp_19s, sp_20s, sp_ms_diff = quarter_sale_market_share(lip_sp, \"Singapore\")"
   ]
  },
  {
   "cell_type": "markdown",
   "metadata": {},
   "source": [
    "### Taiwan"
   ]
  },
  {
   "cell_type": "code",
   "execution_count": 35,
   "metadata": {},
   "outputs": [],
   "source": [
    "TW_affiliate = lip.loc[lip['Affiliate'] == \"Taiwan\"]\n",
    "\n",
    "lip_tw = TW_affiliate.groupby(['Corporate'])['2019_Q1', '2019_Q2', '2019_Q3', '2019_Q4', \n",
    "                                             '2020_Q1', '2020_Q2', '2020_Q3', '2020_Q4'].sum()\n",
    "lip_tw.reset_index(inplace=True)"
   ]
  },
  {
   "cell_type": "code",
   "execution_count": 36,
   "metadata": {},
   "outputs": [
    {
     "name": "stdout",
     "output_type": "stream",
     "text": [
      "Taiwan:\n",
      "In 2020 quarter 4, BEAUTY INC.'s sale is $4.8e+06.\n",
      "In 2019 quarter 4, BEAUTY INC.'s sale is $5.8e+06.\n",
      "In 2020 quarter 4, BEAUTY INC.'s market share is 24.5%.\n",
      "In 2019 quarter 4, BEAUTY INC.'s market share is 26.7%.\n",
      "BEAUTY INC. loss 2.1% market share in 2020 Q4.\n"
     ]
    }
   ],
   "source": [
    "tw_19s, tw_20s, tw_ms_diff = quarter_sale_market_share(lip_tw, \"Taiwan\")"
   ]
  },
  {
   "cell_type": "markdown",
   "metadata": {},
   "source": [
    "### Thailand"
   ]
  },
  {
   "cell_type": "code",
   "execution_count": 37,
   "metadata": {},
   "outputs": [],
   "source": [
    "TL_affiliate = lip.loc[lip['Affiliate'] == \"Thailand\"]\n",
    "\n",
    "lip_tl = TL_affiliate.groupby(['Corporate'])['2019_Q1', '2019_Q2', '2019_Q3', '2019_Q4', \n",
    "                                             '2020_Q1', '2020_Q2', '2020_Q3', '2020_Q4'].sum()\n",
    "lip_tl.reset_index(inplace=True)"
   ]
  },
  {
   "cell_type": "code",
   "execution_count": 38,
   "metadata": {},
   "outputs": [
    {
     "name": "stdout",
     "output_type": "stream",
     "text": [
      "Thailand:\n",
      "In 2020 quarter 4, BEAUTY INC.'s sale is $4.3e+06.\n",
      "In 2019 quarter 4, BEAUTY INC.'s sale is $5.4e+06.\n",
      "In 2020 quarter 4, BEAUTY INC.'s market share is 36.6%.\n",
      "In 2019 quarter 4, BEAUTY INC.'s market share is 43.2%.\n",
      "BEAUTY INC. loss 6.7% market share in 2020 Q4.\n"
     ]
    }
   ],
   "source": [
    "tl_19s, tl_20s, tl_ms_diff = quarter_sale_market_share(lip_tl, \"Thailand\")"
   ]
  },
  {
   "cell_type": "markdown",
   "metadata": {},
   "source": [
    "## IV. Analyze market sale and market share"
   ]
  },
  {
   "cell_type": "code",
   "execution_count": 39,
   "metadata": {},
   "outputs": [],
   "source": [
    "MS_diff = pd.DataFrame(index=['US', 'Canada', 'China', 'Hong Kong', 'Indonesia',\n",
    "                              'Japan', 'Korea', 'Singapore', 'Taiwan', 'Thailand'],\n",
    "                       columns=['2020 Q4 sale', '2019 Q4 sale', '% of Market Share Change'])"
   ]
  },
  {
   "cell_type": "code",
   "execution_count": 40,
   "metadata": {},
   "outputs": [],
   "source": [
    "s19q4 = [us_19s, ca_19s, ch_19s, hk_19s, id_19s,\n",
    "         jp_19s, kr_19s, sp_19s, tw_19s, tl_19s]\n",
    "\n",
    "s20q4 = [us_20s, ca_20s, ch_20s, hk_20s, id_20s,\n",
    "         jp_20s, kr_20s, sp_20s, tw_20s, tl_20s]\n",
    "\n",
    "ms_diff = [us_ms_diff, ca_ms_diff, ch_ms_diff, hk_ms_diff, id_ms_diff,\n",
    "           jp_ms_diff, kr_ms_diff, sp_ms_diff, tw_ms_diff, tl_ms_diff]"
   ]
  },
  {
   "cell_type": "code",
   "execution_count": 41,
   "metadata": {},
   "outputs": [
    {
     "data": {
      "text/html": [
       "<div>\n",
       "<style scoped>\n",
       "    .dataframe tbody tr th:only-of-type {\n",
       "        vertical-align: middle;\n",
       "    }\n",
       "\n",
       "    .dataframe tbody tr th {\n",
       "        vertical-align: top;\n",
       "    }\n",
       "\n",
       "    .dataframe thead th {\n",
       "        text-align: right;\n",
       "    }\n",
       "</style>\n",
       "<table border=\"1\" class=\"dataframe\">\n",
       "  <thead>\n",
       "    <tr style=\"text-align: right;\">\n",
       "      <th></th>\n",
       "      <th>Country</th>\n",
       "      <th>2020 Q4 sale</th>\n",
       "      <th>2019 Q4 sale</th>\n",
       "      <th>% of Market Share Change</th>\n",
       "    </tr>\n",
       "  </thead>\n",
       "  <tbody>\n",
       "    <tr>\n",
       "      <th>0</th>\n",
       "      <td>US</td>\n",
       "      <td>6.0e+07</td>\n",
       "      <td>1.1e+08</td>\n",
       "      <td>-2</td>\n",
       "    </tr>\n",
       "    <tr>\n",
       "      <th>1</th>\n",
       "      <td>Canada</td>\n",
       "      <td>8.2e+06</td>\n",
       "      <td>1.7e+07</td>\n",
       "      <td>-4.8</td>\n",
       "    </tr>\n",
       "    <tr>\n",
       "      <th>2</th>\n",
       "      <td>China</td>\n",
       "      <td>1.0e+08</td>\n",
       "      <td>1.5e+08</td>\n",
       "      <td>-9.9</td>\n",
       "    </tr>\n",
       "    <tr>\n",
       "      <th>3</th>\n",
       "      <td>Hong Kong</td>\n",
       "      <td>3.9e+06</td>\n",
       "      <td>8.7e+06</td>\n",
       "      <td>-2.7</td>\n",
       "    </tr>\n",
       "    <tr>\n",
       "      <th>4</th>\n",
       "      <td>Indonesia</td>\n",
       "      <td>1.8e+05</td>\n",
       "      <td>6.0e+05</td>\n",
       "      <td>-7.4</td>\n",
       "    </tr>\n",
       "    <tr>\n",
       "      <th>5</th>\n",
       "      <td>Japan</td>\n",
       "      <td>7.2e+06</td>\n",
       "      <td>1.7e+07</td>\n",
       "      <td>-3.8</td>\n",
       "    </tr>\n",
       "    <tr>\n",
       "      <th>6</th>\n",
       "      <td>Korea</td>\n",
       "      <td>7.4e+06</td>\n",
       "      <td>1.4e+07</td>\n",
       "      <td>-0.8</td>\n",
       "    </tr>\n",
       "    <tr>\n",
       "      <th>7</th>\n",
       "      <td>Singapore</td>\n",
       "      <td>8.2e+05</td>\n",
       "      <td>1.7e+06</td>\n",
       "      <td>-3.9</td>\n",
       "    </tr>\n",
       "    <tr>\n",
       "      <th>8</th>\n",
       "      <td>Taiwan</td>\n",
       "      <td>4.8e+06</td>\n",
       "      <td>5.8e+06</td>\n",
       "      <td>-2.1</td>\n",
       "    </tr>\n",
       "    <tr>\n",
       "      <th>9</th>\n",
       "      <td>Thailand</td>\n",
       "      <td>4.3e+06</td>\n",
       "      <td>5.4e+06</td>\n",
       "      <td>-6.7</td>\n",
       "    </tr>\n",
       "  </tbody>\n",
       "</table>\n",
       "</div>"
      ],
      "text/plain": [
       "     Country 2020 Q4 sale 2019 Q4 sale % of Market Share Change\n",
       "0         US      6.0e+07      1.1e+08                       -2\n",
       "1     Canada      8.2e+06      1.7e+07                     -4.8\n",
       "2      China      1.0e+08      1.5e+08                     -9.9\n",
       "3  Hong Kong      3.9e+06      8.7e+06                     -2.7\n",
       "4  Indonesia      1.8e+05      6.0e+05                     -7.4\n",
       "5      Japan      7.2e+06      1.7e+07                     -3.8\n",
       "6      Korea      7.4e+06      1.4e+07                     -0.8\n",
       "7  Singapore      8.2e+05      1.7e+06                     -3.9\n",
       "8     Taiwan      4.8e+06      5.8e+06                     -2.1\n",
       "9   Thailand      4.3e+06      5.4e+06                     -6.7"
      ]
     },
     "execution_count": 41,
     "metadata": {},
     "output_type": "execute_result"
    }
   ],
   "source": [
    "for i in range(10):\n",
    "    MS_diff['2020 Q4 sale'][i] = s20q4[i]\n",
    "    MS_diff['2019 Q4 sale'][i] = s19q4[i]\n",
    "    MS_diff['% of Market Share Change'][i] = ms_diff[i]\n",
    "    \n",
    "MS_diff.reset_index(inplace=True)\n",
    "MS_diff.rename(columns={'index':'Country'}, inplace=True)\n",
    "MS_diff"
   ]
  },
  {
   "cell_type": "code",
   "execution_count": 45,
   "metadata": {},
   "outputs": [
    {
     "data": {
      "application/vnd.plotly.v1+json": {
       "config": {
        "plotlyServerURL": "https://plot.ly"
       },
       "data": [
        {
         "marker": {
          "color": "lightskyblue"
         },
         "text": [
          "-2.0",
          "-4.8",
          "-9.9",
          "-2.7",
          "-7.4",
          "-3.8",
          "-0.8",
          "-3.9",
          "-2.1",
          "-6.7"
         ],
         "textposition": "inside",
         "type": "bar",
         "x": [
          "US",
          "Canada",
          "China",
          "Hong Kong",
          "Indonesia",
          "Japan",
          "Korea",
          "Singapore",
          "Taiwan",
          "Thailand"
         ],
         "y": [
          -2,
          -4.8,
          -9.9,
          -2.7,
          -7.4,
          -3.8,
          -0.8,
          -3.9,
          -2.1,
          -6.7
         ]
        }
       ],
       "layout": {
        "annotations": [
         {
          "font": {
           "color": "darkorange",
           "size": 16
          },
          "showarrow": false,
          "text": "Alert",
          "x": 0,
          "xanchor": "right",
          "xref": "x domain",
          "y": -3.1,
          "yanchor": "middle",
          "yref": "y"
         },
         {
          "font": {
           "size": 20
          },
          "showarrow": false,
          "text": "danger",
          "x": 0,
          "xanchor": "left",
          "xref": "x domain",
          "y": -8.1,
          "yanchor": "middle",
          "yref": "y"
         }
        ],
        "shapes": [
         {
          "line": {
           "color": "lightcoral",
           "dash": "dash"
          },
          "type": "line",
          "x0": 0,
          "x1": 1,
          "xref": "x domain",
          "y0": -3.1,
          "y1": -3.1,
          "yref": "y"
         },
         {
          "fillcolor": "red",
          "line": {
           "width": 0
          },
          "opacity": 0.3,
          "type": "rect",
          "x0": 0,
          "x1": 1,
          "xref": "x domain",
          "y0": -6.2,
          "y1": -10,
          "yref": "y"
         }
        ],
        "template": {
         "data": {
          "bar": [
           {
            "error_x": {
             "color": "#2a3f5f"
            },
            "error_y": {
             "color": "#2a3f5f"
            },
            "marker": {
             "line": {
              "color": "#E5ECF6",
              "width": 0.5
             },
             "pattern": {
              "fillmode": "overlay",
              "size": 10,
              "solidity": 0.2
             }
            },
            "type": "bar"
           }
          ],
          "barpolar": [
           {
            "marker": {
             "line": {
              "color": "#E5ECF6",
              "width": 0.5
             },
             "pattern": {
              "fillmode": "overlay",
              "size": 10,
              "solidity": 0.2
             }
            },
            "type": "barpolar"
           }
          ],
          "carpet": [
           {
            "aaxis": {
             "endlinecolor": "#2a3f5f",
             "gridcolor": "white",
             "linecolor": "white",
             "minorgridcolor": "white",
             "startlinecolor": "#2a3f5f"
            },
            "baxis": {
             "endlinecolor": "#2a3f5f",
             "gridcolor": "white",
             "linecolor": "white",
             "minorgridcolor": "white",
             "startlinecolor": "#2a3f5f"
            },
            "type": "carpet"
           }
          ],
          "choropleth": [
           {
            "colorbar": {
             "outlinewidth": 0,
             "ticks": ""
            },
            "type": "choropleth"
           }
          ],
          "contour": [
           {
            "colorbar": {
             "outlinewidth": 0,
             "ticks": ""
            },
            "colorscale": [
             [
              0,
              "#0d0887"
             ],
             [
              0.1111111111111111,
              "#46039f"
             ],
             [
              0.2222222222222222,
              "#7201a8"
             ],
             [
              0.3333333333333333,
              "#9c179e"
             ],
             [
              0.4444444444444444,
              "#bd3786"
             ],
             [
              0.5555555555555556,
              "#d8576b"
             ],
             [
              0.6666666666666666,
              "#ed7953"
             ],
             [
              0.7777777777777778,
              "#fb9f3a"
             ],
             [
              0.8888888888888888,
              "#fdca26"
             ],
             [
              1,
              "#f0f921"
             ]
            ],
            "type": "contour"
           }
          ],
          "contourcarpet": [
           {
            "colorbar": {
             "outlinewidth": 0,
             "ticks": ""
            },
            "type": "contourcarpet"
           }
          ],
          "heatmap": [
           {
            "colorbar": {
             "outlinewidth": 0,
             "ticks": ""
            },
            "colorscale": [
             [
              0,
              "#0d0887"
             ],
             [
              0.1111111111111111,
              "#46039f"
             ],
             [
              0.2222222222222222,
              "#7201a8"
             ],
             [
              0.3333333333333333,
              "#9c179e"
             ],
             [
              0.4444444444444444,
              "#bd3786"
             ],
             [
              0.5555555555555556,
              "#d8576b"
             ],
             [
              0.6666666666666666,
              "#ed7953"
             ],
             [
              0.7777777777777778,
              "#fb9f3a"
             ],
             [
              0.8888888888888888,
              "#fdca26"
             ],
             [
              1,
              "#f0f921"
             ]
            ],
            "type": "heatmap"
           }
          ],
          "heatmapgl": [
           {
            "colorbar": {
             "outlinewidth": 0,
             "ticks": ""
            },
            "colorscale": [
             [
              0,
              "#0d0887"
             ],
             [
              0.1111111111111111,
              "#46039f"
             ],
             [
              0.2222222222222222,
              "#7201a8"
             ],
             [
              0.3333333333333333,
              "#9c179e"
             ],
             [
              0.4444444444444444,
              "#bd3786"
             ],
             [
              0.5555555555555556,
              "#d8576b"
             ],
             [
              0.6666666666666666,
              "#ed7953"
             ],
             [
              0.7777777777777778,
              "#fb9f3a"
             ],
             [
              0.8888888888888888,
              "#fdca26"
             ],
             [
              1,
              "#f0f921"
             ]
            ],
            "type": "heatmapgl"
           }
          ],
          "histogram": [
           {
            "marker": {
             "pattern": {
              "fillmode": "overlay",
              "size": 10,
              "solidity": 0.2
             }
            },
            "type": "histogram"
           }
          ],
          "histogram2d": [
           {
            "colorbar": {
             "outlinewidth": 0,
             "ticks": ""
            },
            "colorscale": [
             [
              0,
              "#0d0887"
             ],
             [
              0.1111111111111111,
              "#46039f"
             ],
             [
              0.2222222222222222,
              "#7201a8"
             ],
             [
              0.3333333333333333,
              "#9c179e"
             ],
             [
              0.4444444444444444,
              "#bd3786"
             ],
             [
              0.5555555555555556,
              "#d8576b"
             ],
             [
              0.6666666666666666,
              "#ed7953"
             ],
             [
              0.7777777777777778,
              "#fb9f3a"
             ],
             [
              0.8888888888888888,
              "#fdca26"
             ],
             [
              1,
              "#f0f921"
             ]
            ],
            "type": "histogram2d"
           }
          ],
          "histogram2dcontour": [
           {
            "colorbar": {
             "outlinewidth": 0,
             "ticks": ""
            },
            "colorscale": [
             [
              0,
              "#0d0887"
             ],
             [
              0.1111111111111111,
              "#46039f"
             ],
             [
              0.2222222222222222,
              "#7201a8"
             ],
             [
              0.3333333333333333,
              "#9c179e"
             ],
             [
              0.4444444444444444,
              "#bd3786"
             ],
             [
              0.5555555555555556,
              "#d8576b"
             ],
             [
              0.6666666666666666,
              "#ed7953"
             ],
             [
              0.7777777777777778,
              "#fb9f3a"
             ],
             [
              0.8888888888888888,
              "#fdca26"
             ],
             [
              1,
              "#f0f921"
             ]
            ],
            "type": "histogram2dcontour"
           }
          ],
          "mesh3d": [
           {
            "colorbar": {
             "outlinewidth": 0,
             "ticks": ""
            },
            "type": "mesh3d"
           }
          ],
          "parcoords": [
           {
            "line": {
             "colorbar": {
              "outlinewidth": 0,
              "ticks": ""
             }
            },
            "type": "parcoords"
           }
          ],
          "pie": [
           {
            "automargin": true,
            "type": "pie"
           }
          ],
          "scatter": [
           {
            "marker": {
             "colorbar": {
              "outlinewidth": 0,
              "ticks": ""
             }
            },
            "type": "scatter"
           }
          ],
          "scatter3d": [
           {
            "line": {
             "colorbar": {
              "outlinewidth": 0,
              "ticks": ""
             }
            },
            "marker": {
             "colorbar": {
              "outlinewidth": 0,
              "ticks": ""
             }
            },
            "type": "scatter3d"
           }
          ],
          "scattercarpet": [
           {
            "marker": {
             "colorbar": {
              "outlinewidth": 0,
              "ticks": ""
             }
            },
            "type": "scattercarpet"
           }
          ],
          "scattergeo": [
           {
            "marker": {
             "colorbar": {
              "outlinewidth": 0,
              "ticks": ""
             }
            },
            "type": "scattergeo"
           }
          ],
          "scattergl": [
           {
            "marker": {
             "colorbar": {
              "outlinewidth": 0,
              "ticks": ""
             }
            },
            "type": "scattergl"
           }
          ],
          "scattermapbox": [
           {
            "marker": {
             "colorbar": {
              "outlinewidth": 0,
              "ticks": ""
             }
            },
            "type": "scattermapbox"
           }
          ],
          "scatterpolar": [
           {
            "marker": {
             "colorbar": {
              "outlinewidth": 0,
              "ticks": ""
             }
            },
            "type": "scatterpolar"
           }
          ],
          "scatterpolargl": [
           {
            "marker": {
             "colorbar": {
              "outlinewidth": 0,
              "ticks": ""
             }
            },
            "type": "scatterpolargl"
           }
          ],
          "scatterternary": [
           {
            "marker": {
             "colorbar": {
              "outlinewidth": 0,
              "ticks": ""
             }
            },
            "type": "scatterternary"
           }
          ],
          "surface": [
           {
            "colorbar": {
             "outlinewidth": 0,
             "ticks": ""
            },
            "colorscale": [
             [
              0,
              "#0d0887"
             ],
             [
              0.1111111111111111,
              "#46039f"
             ],
             [
              0.2222222222222222,
              "#7201a8"
             ],
             [
              0.3333333333333333,
              "#9c179e"
             ],
             [
              0.4444444444444444,
              "#bd3786"
             ],
             [
              0.5555555555555556,
              "#d8576b"
             ],
             [
              0.6666666666666666,
              "#ed7953"
             ],
             [
              0.7777777777777778,
              "#fb9f3a"
             ],
             [
              0.8888888888888888,
              "#fdca26"
             ],
             [
              1,
              "#f0f921"
             ]
            ],
            "type": "surface"
           }
          ],
          "table": [
           {
            "cells": {
             "fill": {
              "color": "#EBF0F8"
             },
             "line": {
              "color": "white"
             }
            },
            "header": {
             "fill": {
              "color": "#C8D4E3"
             },
             "line": {
              "color": "white"
             }
            },
            "type": "table"
           }
          ]
         },
         "layout": {
          "annotationdefaults": {
           "arrowcolor": "#2a3f5f",
           "arrowhead": 0,
           "arrowwidth": 1
          },
          "autotypenumbers": "strict",
          "coloraxis": {
           "colorbar": {
            "outlinewidth": 0,
            "ticks": ""
           }
          },
          "colorscale": {
           "diverging": [
            [
             0,
             "#8e0152"
            ],
            [
             0.1,
             "#c51b7d"
            ],
            [
             0.2,
             "#de77ae"
            ],
            [
             0.3,
             "#f1b6da"
            ],
            [
             0.4,
             "#fde0ef"
            ],
            [
             0.5,
             "#f7f7f7"
            ],
            [
             0.6,
             "#e6f5d0"
            ],
            [
             0.7,
             "#b8e186"
            ],
            [
             0.8,
             "#7fbc41"
            ],
            [
             0.9,
             "#4d9221"
            ],
            [
             1,
             "#276419"
            ]
           ],
           "sequential": [
            [
             0,
             "#0d0887"
            ],
            [
             0.1111111111111111,
             "#46039f"
            ],
            [
             0.2222222222222222,
             "#7201a8"
            ],
            [
             0.3333333333333333,
             "#9c179e"
            ],
            [
             0.4444444444444444,
             "#bd3786"
            ],
            [
             0.5555555555555556,
             "#d8576b"
            ],
            [
             0.6666666666666666,
             "#ed7953"
            ],
            [
             0.7777777777777778,
             "#fb9f3a"
            ],
            [
             0.8888888888888888,
             "#fdca26"
            ],
            [
             1,
             "#f0f921"
            ]
           ],
           "sequentialminus": [
            [
             0,
             "#0d0887"
            ],
            [
             0.1111111111111111,
             "#46039f"
            ],
            [
             0.2222222222222222,
             "#7201a8"
            ],
            [
             0.3333333333333333,
             "#9c179e"
            ],
            [
             0.4444444444444444,
             "#bd3786"
            ],
            [
             0.5555555555555556,
             "#d8576b"
            ],
            [
             0.6666666666666666,
             "#ed7953"
            ],
            [
             0.7777777777777778,
             "#fb9f3a"
            ],
            [
             0.8888888888888888,
             "#fdca26"
            ],
            [
             1,
             "#f0f921"
            ]
           ]
          },
          "colorway": [
           "#636efa",
           "#EF553B",
           "#00cc96",
           "#ab63fa",
           "#FFA15A",
           "#19d3f3",
           "#FF6692",
           "#B6E880",
           "#FF97FF",
           "#FECB52"
          ],
          "font": {
           "color": "#2a3f5f"
          },
          "geo": {
           "bgcolor": "white",
           "lakecolor": "white",
           "landcolor": "#E5ECF6",
           "showlakes": true,
           "showland": true,
           "subunitcolor": "white"
          },
          "hoverlabel": {
           "align": "left"
          },
          "hovermode": "closest",
          "mapbox": {
           "style": "light"
          },
          "paper_bgcolor": "white",
          "plot_bgcolor": "#E5ECF6",
          "polar": {
           "angularaxis": {
            "gridcolor": "white",
            "linecolor": "white",
            "ticks": ""
           },
           "bgcolor": "#E5ECF6",
           "radialaxis": {
            "gridcolor": "white",
            "linecolor": "white",
            "ticks": ""
           }
          },
          "scene": {
           "xaxis": {
            "backgroundcolor": "#E5ECF6",
            "gridcolor": "white",
            "gridwidth": 2,
            "linecolor": "white",
            "showbackground": true,
            "ticks": "",
            "zerolinecolor": "white"
           },
           "yaxis": {
            "backgroundcolor": "#E5ECF6",
            "gridcolor": "white",
            "gridwidth": 2,
            "linecolor": "white",
            "showbackground": true,
            "ticks": "",
            "zerolinecolor": "white"
           },
           "zaxis": {
            "backgroundcolor": "#E5ECF6",
            "gridcolor": "white",
            "gridwidth": 2,
            "linecolor": "white",
            "showbackground": true,
            "ticks": "",
            "zerolinecolor": "white"
           }
          },
          "shapedefaults": {
           "line": {
            "color": "#2a3f5f"
           }
          },
          "ternary": {
           "aaxis": {
            "gridcolor": "white",
            "linecolor": "white",
            "ticks": ""
           },
           "baxis": {
            "gridcolor": "white",
            "linecolor": "white",
            "ticks": ""
           },
           "bgcolor": "#E5ECF6",
           "caxis": {
            "gridcolor": "white",
            "linecolor": "white",
            "ticks": ""
           }
          },
          "title": {
           "x": 0.05
          },
          "xaxis": {
           "automargin": true,
           "gridcolor": "white",
           "linecolor": "white",
           "ticks": "",
           "title": {
            "standoff": 15
           },
           "zerolinecolor": "white",
           "zerolinewidth": 2
          },
          "yaxis": {
           "automargin": true,
           "gridcolor": "white",
           "linecolor": "white",
           "ticks": "",
           "title": {
            "standoff": 15
           },
           "zerolinecolor": "white",
           "zerolinewidth": 2
          }
         }
        },
        "title": {
         "font": {
          "size": 20
         },
         "text": "% of Market Share Lost by Country",
         "x": 0.5,
         "xanchor": "center",
         "y": 0.9,
         "yanchor": "top"
        },
        "yaxis": {
         "title": {
          "text": "Market Share Lost %"
         }
        }
       }
      },
      "text/html": [
       "<div>                            <div id=\"10fbc831-0141-43ff-8f9c-30e4b95d632f\" class=\"plotly-graph-div\" style=\"height:525px; width:100%;\"></div>            <script type=\"text/javascript\">                require([\"plotly\"], function(Plotly) {                    window.PLOTLYENV=window.PLOTLYENV || {};                                    if (document.getElementById(\"10fbc831-0141-43ff-8f9c-30e4b95d632f\")) {                    Plotly.newPlot(                        \"10fbc831-0141-43ff-8f9c-30e4b95d632f\",                        [{\"marker\":{\"color\":\"lightskyblue\"},\"text\":[\"-2.0\",\"-4.8\",\"-9.9\",\"-2.7\",\"-7.4\",\"-3.8\",\"-0.8\",\"-3.9\",\"-2.1\",\"-6.7\"],\"textposition\":\"inside\",\"type\":\"bar\",\"x\":[\"US\",\"Canada\",\"China\",\"Hong Kong\",\"Indonesia\",\"Japan\",\"Korea\",\"Singapore\",\"Taiwan\",\"Thailand\"],\"y\":[-2.0,-4.8,-9.9,-2.7,-7.4,-3.8,-0.8,-3.9,-2.1,-6.7]}],                        {\"annotations\":[{\"font\":{\"color\":\"darkorange\",\"size\":16},\"showarrow\":false,\"text\":\"Alert\",\"x\":0,\"xanchor\":\"right\",\"xref\":\"x domain\",\"y\":-3.1,\"yanchor\":\"middle\",\"yref\":\"y\"},{\"font\":{\"size\":20},\"showarrow\":false,\"text\":\"danger\",\"x\":0,\"xanchor\":\"left\",\"xref\":\"x domain\",\"y\":-8.1,\"yanchor\":\"middle\",\"yref\":\"y\"}],\"shapes\":[{\"line\":{\"color\":\"lightcoral\",\"dash\":\"dash\"},\"type\":\"line\",\"x0\":0,\"x1\":1,\"xref\":\"x domain\",\"y0\":-3.1,\"y1\":-3.1,\"yref\":\"y\"},{\"fillcolor\":\"red\",\"line\":{\"width\":0},\"opacity\":0.3,\"type\":\"rect\",\"x0\":0,\"x1\":1,\"xref\":\"x domain\",\"y0\":-6.2,\"y1\":-10,\"yref\":\"y\"}],\"template\":{\"data\":{\"bar\":[{\"error_x\":{\"color\":\"#2a3f5f\"},\"error_y\":{\"color\":\"#2a3f5f\"},\"marker\":{\"line\":{\"color\":\"#E5ECF6\",\"width\":0.5},\"pattern\":{\"fillmode\":\"overlay\",\"size\":10,\"solidity\":0.2}},\"type\":\"bar\"}],\"barpolar\":[{\"marker\":{\"line\":{\"color\":\"#E5ECF6\",\"width\":0.5},\"pattern\":{\"fillmode\":\"overlay\",\"size\":10,\"solidity\":0.2}},\"type\":\"barpolar\"}],\"carpet\":[{\"aaxis\":{\"endlinecolor\":\"#2a3f5f\",\"gridcolor\":\"white\",\"linecolor\":\"white\",\"minorgridcolor\":\"white\",\"startlinecolor\":\"#2a3f5f\"},\"baxis\":{\"endlinecolor\":\"#2a3f5f\",\"gridcolor\":\"white\",\"linecolor\":\"white\",\"minorgridcolor\":\"white\",\"startlinecolor\":\"#2a3f5f\"},\"type\":\"carpet\"}],\"choropleth\":[{\"colorbar\":{\"outlinewidth\":0,\"ticks\":\"\"},\"type\":\"choropleth\"}],\"contour\":[{\"colorbar\":{\"outlinewidth\":0,\"ticks\":\"\"},\"colorscale\":[[0.0,\"#0d0887\"],[0.1111111111111111,\"#46039f\"],[0.2222222222222222,\"#7201a8\"],[0.3333333333333333,\"#9c179e\"],[0.4444444444444444,\"#bd3786\"],[0.5555555555555556,\"#d8576b\"],[0.6666666666666666,\"#ed7953\"],[0.7777777777777778,\"#fb9f3a\"],[0.8888888888888888,\"#fdca26\"],[1.0,\"#f0f921\"]],\"type\":\"contour\"}],\"contourcarpet\":[{\"colorbar\":{\"outlinewidth\":0,\"ticks\":\"\"},\"type\":\"contourcarpet\"}],\"heatmap\":[{\"colorbar\":{\"outlinewidth\":0,\"ticks\":\"\"},\"colorscale\":[[0.0,\"#0d0887\"],[0.1111111111111111,\"#46039f\"],[0.2222222222222222,\"#7201a8\"],[0.3333333333333333,\"#9c179e\"],[0.4444444444444444,\"#bd3786\"],[0.5555555555555556,\"#d8576b\"],[0.6666666666666666,\"#ed7953\"],[0.7777777777777778,\"#fb9f3a\"],[0.8888888888888888,\"#fdca26\"],[1.0,\"#f0f921\"]],\"type\":\"heatmap\"}],\"heatmapgl\":[{\"colorbar\":{\"outlinewidth\":0,\"ticks\":\"\"},\"colorscale\":[[0.0,\"#0d0887\"],[0.1111111111111111,\"#46039f\"],[0.2222222222222222,\"#7201a8\"],[0.3333333333333333,\"#9c179e\"],[0.4444444444444444,\"#bd3786\"],[0.5555555555555556,\"#d8576b\"],[0.6666666666666666,\"#ed7953\"],[0.7777777777777778,\"#fb9f3a\"],[0.8888888888888888,\"#fdca26\"],[1.0,\"#f0f921\"]],\"type\":\"heatmapgl\"}],\"histogram\":[{\"marker\":{\"pattern\":{\"fillmode\":\"overlay\",\"size\":10,\"solidity\":0.2}},\"type\":\"histogram\"}],\"histogram2d\":[{\"colorbar\":{\"outlinewidth\":0,\"ticks\":\"\"},\"colorscale\":[[0.0,\"#0d0887\"],[0.1111111111111111,\"#46039f\"],[0.2222222222222222,\"#7201a8\"],[0.3333333333333333,\"#9c179e\"],[0.4444444444444444,\"#bd3786\"],[0.5555555555555556,\"#d8576b\"],[0.6666666666666666,\"#ed7953\"],[0.7777777777777778,\"#fb9f3a\"],[0.8888888888888888,\"#fdca26\"],[1.0,\"#f0f921\"]],\"type\":\"histogram2d\"}],\"histogram2dcontour\":[{\"colorbar\":{\"outlinewidth\":0,\"ticks\":\"\"},\"colorscale\":[[0.0,\"#0d0887\"],[0.1111111111111111,\"#46039f\"],[0.2222222222222222,\"#7201a8\"],[0.3333333333333333,\"#9c179e\"],[0.4444444444444444,\"#bd3786\"],[0.5555555555555556,\"#d8576b\"],[0.6666666666666666,\"#ed7953\"],[0.7777777777777778,\"#fb9f3a\"],[0.8888888888888888,\"#fdca26\"],[1.0,\"#f0f921\"]],\"type\":\"histogram2dcontour\"}],\"mesh3d\":[{\"colorbar\":{\"outlinewidth\":0,\"ticks\":\"\"},\"type\":\"mesh3d\"}],\"parcoords\":[{\"line\":{\"colorbar\":{\"outlinewidth\":0,\"ticks\":\"\"}},\"type\":\"parcoords\"}],\"pie\":[{\"automargin\":true,\"type\":\"pie\"}],\"scatter\":[{\"marker\":{\"colorbar\":{\"outlinewidth\":0,\"ticks\":\"\"}},\"type\":\"scatter\"}],\"scatter3d\":[{\"line\":{\"colorbar\":{\"outlinewidth\":0,\"ticks\":\"\"}},\"marker\":{\"colorbar\":{\"outlinewidth\":0,\"ticks\":\"\"}},\"type\":\"scatter3d\"}],\"scattercarpet\":[{\"marker\":{\"colorbar\":{\"outlinewidth\":0,\"ticks\":\"\"}},\"type\":\"scattercarpet\"}],\"scattergeo\":[{\"marker\":{\"colorbar\":{\"outlinewidth\":0,\"ticks\":\"\"}},\"type\":\"scattergeo\"}],\"scattergl\":[{\"marker\":{\"colorbar\":{\"outlinewidth\":0,\"ticks\":\"\"}},\"type\":\"scattergl\"}],\"scattermapbox\":[{\"marker\":{\"colorbar\":{\"outlinewidth\":0,\"ticks\":\"\"}},\"type\":\"scattermapbox\"}],\"scatterpolar\":[{\"marker\":{\"colorbar\":{\"outlinewidth\":0,\"ticks\":\"\"}},\"type\":\"scatterpolar\"}],\"scatterpolargl\":[{\"marker\":{\"colorbar\":{\"outlinewidth\":0,\"ticks\":\"\"}},\"type\":\"scatterpolargl\"}],\"scatterternary\":[{\"marker\":{\"colorbar\":{\"outlinewidth\":0,\"ticks\":\"\"}},\"type\":\"scatterternary\"}],\"surface\":[{\"colorbar\":{\"outlinewidth\":0,\"ticks\":\"\"},\"colorscale\":[[0.0,\"#0d0887\"],[0.1111111111111111,\"#46039f\"],[0.2222222222222222,\"#7201a8\"],[0.3333333333333333,\"#9c179e\"],[0.4444444444444444,\"#bd3786\"],[0.5555555555555556,\"#d8576b\"],[0.6666666666666666,\"#ed7953\"],[0.7777777777777778,\"#fb9f3a\"],[0.8888888888888888,\"#fdca26\"],[1.0,\"#f0f921\"]],\"type\":\"surface\"}],\"table\":[{\"cells\":{\"fill\":{\"color\":\"#EBF0F8\"},\"line\":{\"color\":\"white\"}},\"header\":{\"fill\":{\"color\":\"#C8D4E3\"},\"line\":{\"color\":\"white\"}},\"type\":\"table\"}]},\"layout\":{\"annotationdefaults\":{\"arrowcolor\":\"#2a3f5f\",\"arrowhead\":0,\"arrowwidth\":1},\"autotypenumbers\":\"strict\",\"coloraxis\":{\"colorbar\":{\"outlinewidth\":0,\"ticks\":\"\"}},\"colorscale\":{\"diverging\":[[0,\"#8e0152\"],[0.1,\"#c51b7d\"],[0.2,\"#de77ae\"],[0.3,\"#f1b6da\"],[0.4,\"#fde0ef\"],[0.5,\"#f7f7f7\"],[0.6,\"#e6f5d0\"],[0.7,\"#b8e186\"],[0.8,\"#7fbc41\"],[0.9,\"#4d9221\"],[1,\"#276419\"]],\"sequential\":[[0.0,\"#0d0887\"],[0.1111111111111111,\"#46039f\"],[0.2222222222222222,\"#7201a8\"],[0.3333333333333333,\"#9c179e\"],[0.4444444444444444,\"#bd3786\"],[0.5555555555555556,\"#d8576b\"],[0.6666666666666666,\"#ed7953\"],[0.7777777777777778,\"#fb9f3a\"],[0.8888888888888888,\"#fdca26\"],[1.0,\"#f0f921\"]],\"sequentialminus\":[[0.0,\"#0d0887\"],[0.1111111111111111,\"#46039f\"],[0.2222222222222222,\"#7201a8\"],[0.3333333333333333,\"#9c179e\"],[0.4444444444444444,\"#bd3786\"],[0.5555555555555556,\"#d8576b\"],[0.6666666666666666,\"#ed7953\"],[0.7777777777777778,\"#fb9f3a\"],[0.8888888888888888,\"#fdca26\"],[1.0,\"#f0f921\"]]},\"colorway\":[\"#636efa\",\"#EF553B\",\"#00cc96\",\"#ab63fa\",\"#FFA15A\",\"#19d3f3\",\"#FF6692\",\"#B6E880\",\"#FF97FF\",\"#FECB52\"],\"font\":{\"color\":\"#2a3f5f\"},\"geo\":{\"bgcolor\":\"white\",\"lakecolor\":\"white\",\"landcolor\":\"#E5ECF6\",\"showlakes\":true,\"showland\":true,\"subunitcolor\":\"white\"},\"hoverlabel\":{\"align\":\"left\"},\"hovermode\":\"closest\",\"mapbox\":{\"style\":\"light\"},\"paper_bgcolor\":\"white\",\"plot_bgcolor\":\"#E5ECF6\",\"polar\":{\"angularaxis\":{\"gridcolor\":\"white\",\"linecolor\":\"white\",\"ticks\":\"\"},\"bgcolor\":\"#E5ECF6\",\"radialaxis\":{\"gridcolor\":\"white\",\"linecolor\":\"white\",\"ticks\":\"\"}},\"scene\":{\"xaxis\":{\"backgroundcolor\":\"#E5ECF6\",\"gridcolor\":\"white\",\"gridwidth\":2,\"linecolor\":\"white\",\"showbackground\":true,\"ticks\":\"\",\"zerolinecolor\":\"white\"},\"yaxis\":{\"backgroundcolor\":\"#E5ECF6\",\"gridcolor\":\"white\",\"gridwidth\":2,\"linecolor\":\"white\",\"showbackground\":true,\"ticks\":\"\",\"zerolinecolor\":\"white\"},\"zaxis\":{\"backgroundcolor\":\"#E5ECF6\",\"gridcolor\":\"white\",\"gridwidth\":2,\"linecolor\":\"white\",\"showbackground\":true,\"ticks\":\"\",\"zerolinecolor\":\"white\"}},\"shapedefaults\":{\"line\":{\"color\":\"#2a3f5f\"}},\"ternary\":{\"aaxis\":{\"gridcolor\":\"white\",\"linecolor\":\"white\",\"ticks\":\"\"},\"baxis\":{\"gridcolor\":\"white\",\"linecolor\":\"white\",\"ticks\":\"\"},\"bgcolor\":\"#E5ECF6\",\"caxis\":{\"gridcolor\":\"white\",\"linecolor\":\"white\",\"ticks\":\"\"}},\"title\":{\"x\":0.05},\"xaxis\":{\"automargin\":true,\"gridcolor\":\"white\",\"linecolor\":\"white\",\"ticks\":\"\",\"title\":{\"standoff\":15},\"zerolinecolor\":\"white\",\"zerolinewidth\":2},\"yaxis\":{\"automargin\":true,\"gridcolor\":\"white\",\"linecolor\":\"white\",\"ticks\":\"\",\"title\":{\"standoff\":15},\"zerolinecolor\":\"white\",\"zerolinewidth\":2}}},\"title\":{\"font\":{\"size\":20},\"text\":\"% of Market Share Lost by Country\",\"x\":0.5,\"xanchor\":\"center\",\"y\":0.9,\"yanchor\":\"top\"},\"yaxis\":{\"title\":{\"text\":\"Market Share Lost %\"}}},                        {\"responsive\": true}                    ).then(function(){\n",
       "                            \n",
       "var gd = document.getElementById('10fbc831-0141-43ff-8f9c-30e4b95d632f');\n",
       "var x = new MutationObserver(function (mutations, observer) {{\n",
       "        var display = window.getComputedStyle(gd).display;\n",
       "        if (!display || display === 'none') {{\n",
       "            console.log([gd, 'removed!']);\n",
       "            Plotly.purge(gd);\n",
       "            observer.disconnect();\n",
       "        }}\n",
       "}});\n",
       "\n",
       "// Listen for the removal of the full notebook cells\n",
       "var notebookContainer = gd.closest('#notebook-container');\n",
       "if (notebookContainer) {{\n",
       "    x.observe(notebookContainer, {childList: true});\n",
       "}}\n",
       "\n",
       "// Listen for the clearing of the current output cell\n",
       "var outputEl = gd.closest('.output');\n",
       "if (outputEl) {{\n",
       "    x.observe(outputEl, {childList: true});\n",
       "}}\n",
       "\n",
       "                        })                };                });            </script>        </div>"
      ]
     },
     "metadata": {},
     "output_type": "display_data"
    }
   ],
   "source": [
    "fig = go.Figure(data=[go.Bar(\n",
    "            x=MS_diff['Country'], y=MS_diff['% of Market Share Change'],\n",
    "            text=MS_diff['% of Market Share Change'],\n",
    "            textposition='inside',\n",
    "            marker_color='lightskyblue')])\n",
    "\n",
    "fig.add_hline(y=-3.1, line_dash='dash', line_color='lightcoral',\n",
    "              annotation_text=\"Alert\",\n",
    "              annotation_position='left',\n",
    "              annotation_font_size=16,\n",
    "              annotation_font_color='darkorange')\n",
    "\n",
    "fig.add_hrect(y0=-6.2, y1=-10, line_width=0, fillcolor='red', opacity=0.3,\n",
    "              annotation_text=\"danger\",\n",
    "              annotation_position='left',\n",
    "              annotation_font_size=20)\n",
    "\n",
    "fig.update_layout(title={'text': \"% of Market Share Lost by Country\",\n",
    "                         'x':0.5,\n",
    "                         'y':0.9,\n",
    "                         'xanchor': 'center',\n",
    "                         'yanchor': 'top'}, \n",
    "                  title_font_size=20,\n",
    "                  yaxis_title=\"Market Share Lost %\")\n",
    "# Save interative plot\n",
    "# fig.write_html(\"ms_diff.html\")\n",
    "fig.show()"
   ]
  },
  {
   "cell_type": "markdown",
   "metadata": {},
   "source": [
    "### Note\n",
    "- For some situation, the above interactive plot won't be show up. A same static plot will be shown below."
   ]
  },
  {
   "cell_type": "markdown",
   "metadata": {},
   "source": [
    "<img src=\"ms_diff.png\">"
   ]
  },
  {
   "cell_type": "markdown",
   "metadata": {},
   "source": [
    "## V. Conclusion\n",
    "- Results will be summarized in an additional word/pdf document"
   ]
  },
  {
   "cell_type": "markdown",
   "metadata": {},
   "source": [
    "## Appendix\n",
    "- for presentation"
   ]
  },
  {
   "cell_type": "code",
   "execution_count": 65,
   "metadata": {},
   "outputs": [
    {
     "data": {
      "text/plain": [
       "[25.8, 27.1, 28.2, 28.5, 24.9, 24.2, 22.6, 22.4]"
      ]
     },
     "execution_count": 65,
     "metadata": {},
     "output_type": "execute_result"
    }
   ],
   "source": [
    "beauty_ms = []\n",
    "\n",
    "for col in lip_ww.columns[1:]:\n",
    "    yq_ms = lip_ww.loc[lip_ww['Corporate'] == \"BEAUTY INC.\"][col].values[0]\n",
    "    \n",
    "    total_ms = lip_ww[col].sum()\n",
    "    \n",
    "    ratio = round((yq_ms / total_ms * 100), 1)\n",
    "    beauty_ms.append(ratio)\n",
    "\n",
    "beauty_ms"
   ]
  },
  {
   "cell_type": "code",
   "execution_count": 66,
   "metadata": {},
   "outputs": [
    {
     "data": {
      "text/plain": [
       "['2019_Q1',\n",
       " '2019_Q2',\n",
       " '2019_Q3',\n",
       " '2019_Q4',\n",
       " '2020_Q1',\n",
       " '2020_Q2',\n",
       " '2020_Q3',\n",
       " '2020_Q4']"
      ]
     },
     "execution_count": 66,
     "metadata": {},
     "output_type": "execute_result"
    }
   ],
   "source": [
    "yq = lip_ww.columns[1:].tolist()\n",
    "yq"
   ]
  },
  {
   "cell_type": "code",
   "execution_count": 85,
   "metadata": {},
   "outputs": [
    {
     "data": {
      "application/vnd.plotly.v1+json": {
       "config": {
        "plotlyServerURL": "https://plot.ly"
       },
       "data": [
        {
         "mode": "lines+markers+text",
         "text": [
          "25.8",
          "27.1",
          "28.2",
          "28.5",
          "24.9",
          "24.2",
          "22.6",
          "22.4"
         ],
         "textfont": {
          "size": 14
         },
         "textposition": "top center",
         "type": "scatter",
         "x": [
          "2019_Q1",
          "2019_Q2",
          "2019_Q3",
          "2019_Q4",
          "2020_Q1",
          "2020_Q2",
          "2020_Q3",
          "2020_Q4"
         ],
         "y": [
          25.8,
          27.1,
          28.2,
          28.5,
          24.9,
          24.2,
          22.6,
          22.4
         ]
        }
       ],
       "layout": {
        "template": {
         "data": {
          "bar": [
           {
            "error_x": {
             "color": "#2a3f5f"
            },
            "error_y": {
             "color": "#2a3f5f"
            },
            "marker": {
             "line": {
              "color": "#E5ECF6",
              "width": 0.5
             },
             "pattern": {
              "fillmode": "overlay",
              "size": 10,
              "solidity": 0.2
             }
            },
            "type": "bar"
           }
          ],
          "barpolar": [
           {
            "marker": {
             "line": {
              "color": "#E5ECF6",
              "width": 0.5
             },
             "pattern": {
              "fillmode": "overlay",
              "size": 10,
              "solidity": 0.2
             }
            },
            "type": "barpolar"
           }
          ],
          "carpet": [
           {
            "aaxis": {
             "endlinecolor": "#2a3f5f",
             "gridcolor": "white",
             "linecolor": "white",
             "minorgridcolor": "white",
             "startlinecolor": "#2a3f5f"
            },
            "baxis": {
             "endlinecolor": "#2a3f5f",
             "gridcolor": "white",
             "linecolor": "white",
             "minorgridcolor": "white",
             "startlinecolor": "#2a3f5f"
            },
            "type": "carpet"
           }
          ],
          "choropleth": [
           {
            "colorbar": {
             "outlinewidth": 0,
             "ticks": ""
            },
            "type": "choropleth"
           }
          ],
          "contour": [
           {
            "colorbar": {
             "outlinewidth": 0,
             "ticks": ""
            },
            "colorscale": [
             [
              0,
              "#0d0887"
             ],
             [
              0.1111111111111111,
              "#46039f"
             ],
             [
              0.2222222222222222,
              "#7201a8"
             ],
             [
              0.3333333333333333,
              "#9c179e"
             ],
             [
              0.4444444444444444,
              "#bd3786"
             ],
             [
              0.5555555555555556,
              "#d8576b"
             ],
             [
              0.6666666666666666,
              "#ed7953"
             ],
             [
              0.7777777777777778,
              "#fb9f3a"
             ],
             [
              0.8888888888888888,
              "#fdca26"
             ],
             [
              1,
              "#f0f921"
             ]
            ],
            "type": "contour"
           }
          ],
          "contourcarpet": [
           {
            "colorbar": {
             "outlinewidth": 0,
             "ticks": ""
            },
            "type": "contourcarpet"
           }
          ],
          "heatmap": [
           {
            "colorbar": {
             "outlinewidth": 0,
             "ticks": ""
            },
            "colorscale": [
             [
              0,
              "#0d0887"
             ],
             [
              0.1111111111111111,
              "#46039f"
             ],
             [
              0.2222222222222222,
              "#7201a8"
             ],
             [
              0.3333333333333333,
              "#9c179e"
             ],
             [
              0.4444444444444444,
              "#bd3786"
             ],
             [
              0.5555555555555556,
              "#d8576b"
             ],
             [
              0.6666666666666666,
              "#ed7953"
             ],
             [
              0.7777777777777778,
              "#fb9f3a"
             ],
             [
              0.8888888888888888,
              "#fdca26"
             ],
             [
              1,
              "#f0f921"
             ]
            ],
            "type": "heatmap"
           }
          ],
          "heatmapgl": [
           {
            "colorbar": {
             "outlinewidth": 0,
             "ticks": ""
            },
            "colorscale": [
             [
              0,
              "#0d0887"
             ],
             [
              0.1111111111111111,
              "#46039f"
             ],
             [
              0.2222222222222222,
              "#7201a8"
             ],
             [
              0.3333333333333333,
              "#9c179e"
             ],
             [
              0.4444444444444444,
              "#bd3786"
             ],
             [
              0.5555555555555556,
              "#d8576b"
             ],
             [
              0.6666666666666666,
              "#ed7953"
             ],
             [
              0.7777777777777778,
              "#fb9f3a"
             ],
             [
              0.8888888888888888,
              "#fdca26"
             ],
             [
              1,
              "#f0f921"
             ]
            ],
            "type": "heatmapgl"
           }
          ],
          "histogram": [
           {
            "marker": {
             "pattern": {
              "fillmode": "overlay",
              "size": 10,
              "solidity": 0.2
             }
            },
            "type": "histogram"
           }
          ],
          "histogram2d": [
           {
            "colorbar": {
             "outlinewidth": 0,
             "ticks": ""
            },
            "colorscale": [
             [
              0,
              "#0d0887"
             ],
             [
              0.1111111111111111,
              "#46039f"
             ],
             [
              0.2222222222222222,
              "#7201a8"
             ],
             [
              0.3333333333333333,
              "#9c179e"
             ],
             [
              0.4444444444444444,
              "#bd3786"
             ],
             [
              0.5555555555555556,
              "#d8576b"
             ],
             [
              0.6666666666666666,
              "#ed7953"
             ],
             [
              0.7777777777777778,
              "#fb9f3a"
             ],
             [
              0.8888888888888888,
              "#fdca26"
             ],
             [
              1,
              "#f0f921"
             ]
            ],
            "type": "histogram2d"
           }
          ],
          "histogram2dcontour": [
           {
            "colorbar": {
             "outlinewidth": 0,
             "ticks": ""
            },
            "colorscale": [
             [
              0,
              "#0d0887"
             ],
             [
              0.1111111111111111,
              "#46039f"
             ],
             [
              0.2222222222222222,
              "#7201a8"
             ],
             [
              0.3333333333333333,
              "#9c179e"
             ],
             [
              0.4444444444444444,
              "#bd3786"
             ],
             [
              0.5555555555555556,
              "#d8576b"
             ],
             [
              0.6666666666666666,
              "#ed7953"
             ],
             [
              0.7777777777777778,
              "#fb9f3a"
             ],
             [
              0.8888888888888888,
              "#fdca26"
             ],
             [
              1,
              "#f0f921"
             ]
            ],
            "type": "histogram2dcontour"
           }
          ],
          "mesh3d": [
           {
            "colorbar": {
             "outlinewidth": 0,
             "ticks": ""
            },
            "type": "mesh3d"
           }
          ],
          "parcoords": [
           {
            "line": {
             "colorbar": {
              "outlinewidth": 0,
              "ticks": ""
             }
            },
            "type": "parcoords"
           }
          ],
          "pie": [
           {
            "automargin": true,
            "type": "pie"
           }
          ],
          "scatter": [
           {
            "marker": {
             "colorbar": {
              "outlinewidth": 0,
              "ticks": ""
             }
            },
            "type": "scatter"
           }
          ],
          "scatter3d": [
           {
            "line": {
             "colorbar": {
              "outlinewidth": 0,
              "ticks": ""
             }
            },
            "marker": {
             "colorbar": {
              "outlinewidth": 0,
              "ticks": ""
             }
            },
            "type": "scatter3d"
           }
          ],
          "scattercarpet": [
           {
            "marker": {
             "colorbar": {
              "outlinewidth": 0,
              "ticks": ""
             }
            },
            "type": "scattercarpet"
           }
          ],
          "scattergeo": [
           {
            "marker": {
             "colorbar": {
              "outlinewidth": 0,
              "ticks": ""
             }
            },
            "type": "scattergeo"
           }
          ],
          "scattergl": [
           {
            "marker": {
             "colorbar": {
              "outlinewidth": 0,
              "ticks": ""
             }
            },
            "type": "scattergl"
           }
          ],
          "scattermapbox": [
           {
            "marker": {
             "colorbar": {
              "outlinewidth": 0,
              "ticks": ""
             }
            },
            "type": "scattermapbox"
           }
          ],
          "scatterpolar": [
           {
            "marker": {
             "colorbar": {
              "outlinewidth": 0,
              "ticks": ""
             }
            },
            "type": "scatterpolar"
           }
          ],
          "scatterpolargl": [
           {
            "marker": {
             "colorbar": {
              "outlinewidth": 0,
              "ticks": ""
             }
            },
            "type": "scatterpolargl"
           }
          ],
          "scatterternary": [
           {
            "marker": {
             "colorbar": {
              "outlinewidth": 0,
              "ticks": ""
             }
            },
            "type": "scatterternary"
           }
          ],
          "surface": [
           {
            "colorbar": {
             "outlinewidth": 0,
             "ticks": ""
            },
            "colorscale": [
             [
              0,
              "#0d0887"
             ],
             [
              0.1111111111111111,
              "#46039f"
             ],
             [
              0.2222222222222222,
              "#7201a8"
             ],
             [
              0.3333333333333333,
              "#9c179e"
             ],
             [
              0.4444444444444444,
              "#bd3786"
             ],
             [
              0.5555555555555556,
              "#d8576b"
             ],
             [
              0.6666666666666666,
              "#ed7953"
             ],
             [
              0.7777777777777778,
              "#fb9f3a"
             ],
             [
              0.8888888888888888,
              "#fdca26"
             ],
             [
              1,
              "#f0f921"
             ]
            ],
            "type": "surface"
           }
          ],
          "table": [
           {
            "cells": {
             "fill": {
              "color": "#EBF0F8"
             },
             "line": {
              "color": "white"
             }
            },
            "header": {
             "fill": {
              "color": "#C8D4E3"
             },
             "line": {
              "color": "white"
             }
            },
            "type": "table"
           }
          ]
         },
         "layout": {
          "annotationdefaults": {
           "arrowcolor": "#2a3f5f",
           "arrowhead": 0,
           "arrowwidth": 1
          },
          "autotypenumbers": "strict",
          "coloraxis": {
           "colorbar": {
            "outlinewidth": 0,
            "ticks": ""
           }
          },
          "colorscale": {
           "diverging": [
            [
             0,
             "#8e0152"
            ],
            [
             0.1,
             "#c51b7d"
            ],
            [
             0.2,
             "#de77ae"
            ],
            [
             0.3,
             "#f1b6da"
            ],
            [
             0.4,
             "#fde0ef"
            ],
            [
             0.5,
             "#f7f7f7"
            ],
            [
             0.6,
             "#e6f5d0"
            ],
            [
             0.7,
             "#b8e186"
            ],
            [
             0.8,
             "#7fbc41"
            ],
            [
             0.9,
             "#4d9221"
            ],
            [
             1,
             "#276419"
            ]
           ],
           "sequential": [
            [
             0,
             "#0d0887"
            ],
            [
             0.1111111111111111,
             "#46039f"
            ],
            [
             0.2222222222222222,
             "#7201a8"
            ],
            [
             0.3333333333333333,
             "#9c179e"
            ],
            [
             0.4444444444444444,
             "#bd3786"
            ],
            [
             0.5555555555555556,
             "#d8576b"
            ],
            [
             0.6666666666666666,
             "#ed7953"
            ],
            [
             0.7777777777777778,
             "#fb9f3a"
            ],
            [
             0.8888888888888888,
             "#fdca26"
            ],
            [
             1,
             "#f0f921"
            ]
           ],
           "sequentialminus": [
            [
             0,
             "#0d0887"
            ],
            [
             0.1111111111111111,
             "#46039f"
            ],
            [
             0.2222222222222222,
             "#7201a8"
            ],
            [
             0.3333333333333333,
             "#9c179e"
            ],
            [
             0.4444444444444444,
             "#bd3786"
            ],
            [
             0.5555555555555556,
             "#d8576b"
            ],
            [
             0.6666666666666666,
             "#ed7953"
            ],
            [
             0.7777777777777778,
             "#fb9f3a"
            ],
            [
             0.8888888888888888,
             "#fdca26"
            ],
            [
             1,
             "#f0f921"
            ]
           ]
          },
          "colorway": [
           "#636efa",
           "#EF553B",
           "#00cc96",
           "#ab63fa",
           "#FFA15A",
           "#19d3f3",
           "#FF6692",
           "#B6E880",
           "#FF97FF",
           "#FECB52"
          ],
          "font": {
           "color": "#2a3f5f"
          },
          "geo": {
           "bgcolor": "white",
           "lakecolor": "white",
           "landcolor": "#E5ECF6",
           "showlakes": true,
           "showland": true,
           "subunitcolor": "white"
          },
          "hoverlabel": {
           "align": "left"
          },
          "hovermode": "closest",
          "mapbox": {
           "style": "light"
          },
          "paper_bgcolor": "white",
          "plot_bgcolor": "#E5ECF6",
          "polar": {
           "angularaxis": {
            "gridcolor": "white",
            "linecolor": "white",
            "ticks": ""
           },
           "bgcolor": "#E5ECF6",
           "radialaxis": {
            "gridcolor": "white",
            "linecolor": "white",
            "ticks": ""
           }
          },
          "scene": {
           "xaxis": {
            "backgroundcolor": "#E5ECF6",
            "gridcolor": "white",
            "gridwidth": 2,
            "linecolor": "white",
            "showbackground": true,
            "ticks": "",
            "zerolinecolor": "white"
           },
           "yaxis": {
            "backgroundcolor": "#E5ECF6",
            "gridcolor": "white",
            "gridwidth": 2,
            "linecolor": "white",
            "showbackground": true,
            "ticks": "",
            "zerolinecolor": "white"
           },
           "zaxis": {
            "backgroundcolor": "#E5ECF6",
            "gridcolor": "white",
            "gridwidth": 2,
            "linecolor": "white",
            "showbackground": true,
            "ticks": "",
            "zerolinecolor": "white"
           }
          },
          "shapedefaults": {
           "line": {
            "color": "#2a3f5f"
           }
          },
          "ternary": {
           "aaxis": {
            "gridcolor": "white",
            "linecolor": "white",
            "ticks": ""
           },
           "baxis": {
            "gridcolor": "white",
            "linecolor": "white",
            "ticks": ""
           },
           "bgcolor": "#E5ECF6",
           "caxis": {
            "gridcolor": "white",
            "linecolor": "white",
            "ticks": ""
           }
          },
          "title": {
           "x": 0.05
          },
          "xaxis": {
           "automargin": true,
           "gridcolor": "white",
           "linecolor": "white",
           "ticks": "",
           "title": {
            "standoff": 15
           },
           "zerolinecolor": "white",
           "zerolinewidth": 2
          },
          "yaxis": {
           "automargin": true,
           "gridcolor": "white",
           "linecolor": "white",
           "ticks": "",
           "title": {
            "standoff": 15
           },
           "zerolinecolor": "white",
           "zerolinewidth": 2
          }
         }
        },
        "title": {
         "font": {
          "size": 20
         },
         "text": "Beauty Inc. Lip Category 2019~2020 Market Share",
         "x": 0.5,
         "xanchor": "center",
         "y": 0.9,
         "yanchor": "top"
        },
        "yaxis": {
         "title": {
          "font": {
           "size": 16
          },
          "text": "% Change"
         }
        }
       }
      },
      "text/html": [
       "<div>                            <div id=\"0a77a511-f426-4b51-ba40-1579a24ea3de\" class=\"plotly-graph-div\" style=\"height:525px; width:100%;\"></div>            <script type=\"text/javascript\">                require([\"plotly\"], function(Plotly) {                    window.PLOTLYENV=window.PLOTLYENV || {};                                    if (document.getElementById(\"0a77a511-f426-4b51-ba40-1579a24ea3de\")) {                    Plotly.newPlot(                        \"0a77a511-f426-4b51-ba40-1579a24ea3de\",                        [{\"mode\":\"lines+markers+text\",\"text\":[\"25.8\",\"27.1\",\"28.2\",\"28.5\",\"24.9\",\"24.2\",\"22.6\",\"22.4\"],\"textfont\":{\"size\":14},\"textposition\":\"top center\",\"type\":\"scatter\",\"x\":[\"2019_Q1\",\"2019_Q2\",\"2019_Q3\",\"2019_Q4\",\"2020_Q1\",\"2020_Q2\",\"2020_Q3\",\"2020_Q4\"],\"y\":[25.8,27.1,28.2,28.5,24.9,24.2,22.6,22.4]}],                        {\"template\":{\"data\":{\"bar\":[{\"error_x\":{\"color\":\"#2a3f5f\"},\"error_y\":{\"color\":\"#2a3f5f\"},\"marker\":{\"line\":{\"color\":\"#E5ECF6\",\"width\":0.5},\"pattern\":{\"fillmode\":\"overlay\",\"size\":10,\"solidity\":0.2}},\"type\":\"bar\"}],\"barpolar\":[{\"marker\":{\"line\":{\"color\":\"#E5ECF6\",\"width\":0.5},\"pattern\":{\"fillmode\":\"overlay\",\"size\":10,\"solidity\":0.2}},\"type\":\"barpolar\"}],\"carpet\":[{\"aaxis\":{\"endlinecolor\":\"#2a3f5f\",\"gridcolor\":\"white\",\"linecolor\":\"white\",\"minorgridcolor\":\"white\",\"startlinecolor\":\"#2a3f5f\"},\"baxis\":{\"endlinecolor\":\"#2a3f5f\",\"gridcolor\":\"white\",\"linecolor\":\"white\",\"minorgridcolor\":\"white\",\"startlinecolor\":\"#2a3f5f\"},\"type\":\"carpet\"}],\"choropleth\":[{\"colorbar\":{\"outlinewidth\":0,\"ticks\":\"\"},\"type\":\"choropleth\"}],\"contour\":[{\"colorbar\":{\"outlinewidth\":0,\"ticks\":\"\"},\"colorscale\":[[0.0,\"#0d0887\"],[0.1111111111111111,\"#46039f\"],[0.2222222222222222,\"#7201a8\"],[0.3333333333333333,\"#9c179e\"],[0.4444444444444444,\"#bd3786\"],[0.5555555555555556,\"#d8576b\"],[0.6666666666666666,\"#ed7953\"],[0.7777777777777778,\"#fb9f3a\"],[0.8888888888888888,\"#fdca26\"],[1.0,\"#f0f921\"]],\"type\":\"contour\"}],\"contourcarpet\":[{\"colorbar\":{\"outlinewidth\":0,\"ticks\":\"\"},\"type\":\"contourcarpet\"}],\"heatmap\":[{\"colorbar\":{\"outlinewidth\":0,\"ticks\":\"\"},\"colorscale\":[[0.0,\"#0d0887\"],[0.1111111111111111,\"#46039f\"],[0.2222222222222222,\"#7201a8\"],[0.3333333333333333,\"#9c179e\"],[0.4444444444444444,\"#bd3786\"],[0.5555555555555556,\"#d8576b\"],[0.6666666666666666,\"#ed7953\"],[0.7777777777777778,\"#fb9f3a\"],[0.8888888888888888,\"#fdca26\"],[1.0,\"#f0f921\"]],\"type\":\"heatmap\"}],\"heatmapgl\":[{\"colorbar\":{\"outlinewidth\":0,\"ticks\":\"\"},\"colorscale\":[[0.0,\"#0d0887\"],[0.1111111111111111,\"#46039f\"],[0.2222222222222222,\"#7201a8\"],[0.3333333333333333,\"#9c179e\"],[0.4444444444444444,\"#bd3786\"],[0.5555555555555556,\"#d8576b\"],[0.6666666666666666,\"#ed7953\"],[0.7777777777777778,\"#fb9f3a\"],[0.8888888888888888,\"#fdca26\"],[1.0,\"#f0f921\"]],\"type\":\"heatmapgl\"}],\"histogram\":[{\"marker\":{\"pattern\":{\"fillmode\":\"overlay\",\"size\":10,\"solidity\":0.2}},\"type\":\"histogram\"}],\"histogram2d\":[{\"colorbar\":{\"outlinewidth\":0,\"ticks\":\"\"},\"colorscale\":[[0.0,\"#0d0887\"],[0.1111111111111111,\"#46039f\"],[0.2222222222222222,\"#7201a8\"],[0.3333333333333333,\"#9c179e\"],[0.4444444444444444,\"#bd3786\"],[0.5555555555555556,\"#d8576b\"],[0.6666666666666666,\"#ed7953\"],[0.7777777777777778,\"#fb9f3a\"],[0.8888888888888888,\"#fdca26\"],[1.0,\"#f0f921\"]],\"type\":\"histogram2d\"}],\"histogram2dcontour\":[{\"colorbar\":{\"outlinewidth\":0,\"ticks\":\"\"},\"colorscale\":[[0.0,\"#0d0887\"],[0.1111111111111111,\"#46039f\"],[0.2222222222222222,\"#7201a8\"],[0.3333333333333333,\"#9c179e\"],[0.4444444444444444,\"#bd3786\"],[0.5555555555555556,\"#d8576b\"],[0.6666666666666666,\"#ed7953\"],[0.7777777777777778,\"#fb9f3a\"],[0.8888888888888888,\"#fdca26\"],[1.0,\"#f0f921\"]],\"type\":\"histogram2dcontour\"}],\"mesh3d\":[{\"colorbar\":{\"outlinewidth\":0,\"ticks\":\"\"},\"type\":\"mesh3d\"}],\"parcoords\":[{\"line\":{\"colorbar\":{\"outlinewidth\":0,\"ticks\":\"\"}},\"type\":\"parcoords\"}],\"pie\":[{\"automargin\":true,\"type\":\"pie\"}],\"scatter\":[{\"marker\":{\"colorbar\":{\"outlinewidth\":0,\"ticks\":\"\"}},\"type\":\"scatter\"}],\"scatter3d\":[{\"line\":{\"colorbar\":{\"outlinewidth\":0,\"ticks\":\"\"}},\"marker\":{\"colorbar\":{\"outlinewidth\":0,\"ticks\":\"\"}},\"type\":\"scatter3d\"}],\"scattercarpet\":[{\"marker\":{\"colorbar\":{\"outlinewidth\":0,\"ticks\":\"\"}},\"type\":\"scattercarpet\"}],\"scattergeo\":[{\"marker\":{\"colorbar\":{\"outlinewidth\":0,\"ticks\":\"\"}},\"type\":\"scattergeo\"}],\"scattergl\":[{\"marker\":{\"colorbar\":{\"outlinewidth\":0,\"ticks\":\"\"}},\"type\":\"scattergl\"}],\"scattermapbox\":[{\"marker\":{\"colorbar\":{\"outlinewidth\":0,\"ticks\":\"\"}},\"type\":\"scattermapbox\"}],\"scatterpolar\":[{\"marker\":{\"colorbar\":{\"outlinewidth\":0,\"ticks\":\"\"}},\"type\":\"scatterpolar\"}],\"scatterpolargl\":[{\"marker\":{\"colorbar\":{\"outlinewidth\":0,\"ticks\":\"\"}},\"type\":\"scatterpolargl\"}],\"scatterternary\":[{\"marker\":{\"colorbar\":{\"outlinewidth\":0,\"ticks\":\"\"}},\"type\":\"scatterternary\"}],\"surface\":[{\"colorbar\":{\"outlinewidth\":0,\"ticks\":\"\"},\"colorscale\":[[0.0,\"#0d0887\"],[0.1111111111111111,\"#46039f\"],[0.2222222222222222,\"#7201a8\"],[0.3333333333333333,\"#9c179e\"],[0.4444444444444444,\"#bd3786\"],[0.5555555555555556,\"#d8576b\"],[0.6666666666666666,\"#ed7953\"],[0.7777777777777778,\"#fb9f3a\"],[0.8888888888888888,\"#fdca26\"],[1.0,\"#f0f921\"]],\"type\":\"surface\"}],\"table\":[{\"cells\":{\"fill\":{\"color\":\"#EBF0F8\"},\"line\":{\"color\":\"white\"}},\"header\":{\"fill\":{\"color\":\"#C8D4E3\"},\"line\":{\"color\":\"white\"}},\"type\":\"table\"}]},\"layout\":{\"annotationdefaults\":{\"arrowcolor\":\"#2a3f5f\",\"arrowhead\":0,\"arrowwidth\":1},\"autotypenumbers\":\"strict\",\"coloraxis\":{\"colorbar\":{\"outlinewidth\":0,\"ticks\":\"\"}},\"colorscale\":{\"diverging\":[[0,\"#8e0152\"],[0.1,\"#c51b7d\"],[0.2,\"#de77ae\"],[0.3,\"#f1b6da\"],[0.4,\"#fde0ef\"],[0.5,\"#f7f7f7\"],[0.6,\"#e6f5d0\"],[0.7,\"#b8e186\"],[0.8,\"#7fbc41\"],[0.9,\"#4d9221\"],[1,\"#276419\"]],\"sequential\":[[0.0,\"#0d0887\"],[0.1111111111111111,\"#46039f\"],[0.2222222222222222,\"#7201a8\"],[0.3333333333333333,\"#9c179e\"],[0.4444444444444444,\"#bd3786\"],[0.5555555555555556,\"#d8576b\"],[0.6666666666666666,\"#ed7953\"],[0.7777777777777778,\"#fb9f3a\"],[0.8888888888888888,\"#fdca26\"],[1.0,\"#f0f921\"]],\"sequentialminus\":[[0.0,\"#0d0887\"],[0.1111111111111111,\"#46039f\"],[0.2222222222222222,\"#7201a8\"],[0.3333333333333333,\"#9c179e\"],[0.4444444444444444,\"#bd3786\"],[0.5555555555555556,\"#d8576b\"],[0.6666666666666666,\"#ed7953\"],[0.7777777777777778,\"#fb9f3a\"],[0.8888888888888888,\"#fdca26\"],[1.0,\"#f0f921\"]]},\"colorway\":[\"#636efa\",\"#EF553B\",\"#00cc96\",\"#ab63fa\",\"#FFA15A\",\"#19d3f3\",\"#FF6692\",\"#B6E880\",\"#FF97FF\",\"#FECB52\"],\"font\":{\"color\":\"#2a3f5f\"},\"geo\":{\"bgcolor\":\"white\",\"lakecolor\":\"white\",\"landcolor\":\"#E5ECF6\",\"showlakes\":true,\"showland\":true,\"subunitcolor\":\"white\"},\"hoverlabel\":{\"align\":\"left\"},\"hovermode\":\"closest\",\"mapbox\":{\"style\":\"light\"},\"paper_bgcolor\":\"white\",\"plot_bgcolor\":\"#E5ECF6\",\"polar\":{\"angularaxis\":{\"gridcolor\":\"white\",\"linecolor\":\"white\",\"ticks\":\"\"},\"bgcolor\":\"#E5ECF6\",\"radialaxis\":{\"gridcolor\":\"white\",\"linecolor\":\"white\",\"ticks\":\"\"}},\"scene\":{\"xaxis\":{\"backgroundcolor\":\"#E5ECF6\",\"gridcolor\":\"white\",\"gridwidth\":2,\"linecolor\":\"white\",\"showbackground\":true,\"ticks\":\"\",\"zerolinecolor\":\"white\"},\"yaxis\":{\"backgroundcolor\":\"#E5ECF6\",\"gridcolor\":\"white\",\"gridwidth\":2,\"linecolor\":\"white\",\"showbackground\":true,\"ticks\":\"\",\"zerolinecolor\":\"white\"},\"zaxis\":{\"backgroundcolor\":\"#E5ECF6\",\"gridcolor\":\"white\",\"gridwidth\":2,\"linecolor\":\"white\",\"showbackground\":true,\"ticks\":\"\",\"zerolinecolor\":\"white\"}},\"shapedefaults\":{\"line\":{\"color\":\"#2a3f5f\"}},\"ternary\":{\"aaxis\":{\"gridcolor\":\"white\",\"linecolor\":\"white\",\"ticks\":\"\"},\"baxis\":{\"gridcolor\":\"white\",\"linecolor\":\"white\",\"ticks\":\"\"},\"bgcolor\":\"#E5ECF6\",\"caxis\":{\"gridcolor\":\"white\",\"linecolor\":\"white\",\"ticks\":\"\"}},\"title\":{\"x\":0.05},\"xaxis\":{\"automargin\":true,\"gridcolor\":\"white\",\"linecolor\":\"white\",\"ticks\":\"\",\"title\":{\"standoff\":15},\"zerolinecolor\":\"white\",\"zerolinewidth\":2},\"yaxis\":{\"automargin\":true,\"gridcolor\":\"white\",\"linecolor\":\"white\",\"ticks\":\"\",\"title\":{\"standoff\":15},\"zerolinecolor\":\"white\",\"zerolinewidth\":2}}},\"title\":{\"font\":{\"size\":20},\"text\":\"Beauty Inc. Lip Category 2019~2020 Market Share\",\"x\":0.5,\"xanchor\":\"center\",\"y\":0.9,\"yanchor\":\"top\"},\"yaxis\":{\"title\":{\"font\":{\"size\":16},\"text\":\"% Change\"}}},                        {\"responsive\": true}                    ).then(function(){\n",
       "                            \n",
       "var gd = document.getElementById('0a77a511-f426-4b51-ba40-1579a24ea3de');\n",
       "var x = new MutationObserver(function (mutations, observer) {{\n",
       "        var display = window.getComputedStyle(gd).display;\n",
       "        if (!display || display === 'none') {{\n",
       "            console.log([gd, 'removed!']);\n",
       "            Plotly.purge(gd);\n",
       "            observer.disconnect();\n",
       "        }}\n",
       "}});\n",
       "\n",
       "// Listen for the removal of the full notebook cells\n",
       "var notebookContainer = gd.closest('#notebook-container');\n",
       "if (notebookContainer) {{\n",
       "    x.observe(notebookContainer, {childList: true});\n",
       "}}\n",
       "\n",
       "// Listen for the clearing of the current output cell\n",
       "var outputEl = gd.closest('.output');\n",
       "if (outputEl) {{\n",
       "    x.observe(outputEl, {childList: true});\n",
       "}}\n",
       "\n",
       "                        })                };                });            </script>        </div>"
      ]
     },
     "metadata": {},
     "output_type": "display_data"
    }
   ],
   "source": [
    "fig = go.Figure()\n",
    "\n",
    "fig.add_trace(go.Scatter(x=yq,\n",
    "                         y=beauty_ms,\n",
    "                         mode=\"lines+markers+text\",\n",
    "                         text=beauty_ms,\n",
    "                         textposition=\"top center\"))\n",
    "\n",
    "fig.update_layout(title={'text': \"Beauty Inc. Lip Category 2019~2020 Market Share\",\n",
    "                         'x':0.5,\n",
    "                         'y':0.9,\n",
    "                         'xanchor': 'center',\n",
    "                         'yanchor': 'top'}, \n",
    "                  title_font_size=20,\n",
    "                  yaxis_title=\"% Change\",\n",
    "                  yaxis_title_font_size=16)\n",
    "\n",
    "fig.update_traces(textfont_size=14)"
   ]
  },
  {
   "cell_type": "code",
   "execution_count": null,
   "metadata": {},
   "outputs": [],
   "source": []
  }
 ],
 "metadata": {
  "kernelspec": {
   "display_name": "learn-env",
   "language": "python",
   "name": "learn-env"
  },
  "language_info": {
   "codemirror_mode": {
    "name": "ipython",
    "version": 3
   },
   "file_extension": ".py",
   "mimetype": "text/x-python",
   "name": "python",
   "nbconvert_exporter": "python",
   "pygments_lexer": "ipython3",
   "version": "3.6.9"
  },
  "toc": {
   "base_numbering": 1,
   "nav_menu": {},
   "number_sections": false,
   "sideBar": true,
   "skip_h1_title": false,
   "title_cell": "Table of Contents",
   "title_sidebar": "Contents",
   "toc_cell": false,
   "toc_position": {
    "height": "calc(100% - 180px)",
    "left": "10px",
    "top": "150px",
    "width": "377.391px"
   },
   "toc_section_display": true,
   "toc_window_display": true
  }
 },
 "nbformat": 4,
 "nbformat_minor": 4
}
